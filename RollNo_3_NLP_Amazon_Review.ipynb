{
  "nbformat": 4,
  "nbformat_minor": 0,
  "metadata": {
    "colab": {
      "provenance": []
    },
    "kernelspec": {
      "name": "python3",
      "display_name": "Python 3"
    },
    "language_info": {
      "name": "python"
    }
  },
  "cells": [
    {
      "cell_type": "code",
      "source": [
        "# Importing all necessary libraries\n",
        "import pandas as pd\n",
        "import numpy as np\n",
        "\n",
        "import nltk\n",
        "import re\n",
        "nltk.download('stopwords')\n",
        "from nltk.corpus import stopwords\n",
        "nltk.download('punkt')\n",
        "nltk.download('wordnet')\n",
        "nltk.download('omw-1.4')\n",
        "nltk.download('averaged_perceptron_tagger')\n",
        "from nltk.stem import WordNetLemmatizer\n",
        "from nltk.tokenize import word_tokenize\n",
        "from nltk.corpus import stopwords\n",
        "from nltk.tokenize import word_tokenize\n",
        "from nltk.corpus import wordnet\n",
        "\n",
        "from bs4 import BeautifulSoup\n",
        "\n",
        "from wordcloud import WordCloud, STOPWORDS, ImageColorGenerator\n",
        "from PIL import Image\n",
        "import matplotlib.pyplot as plt\n",
        "import seaborn as sns\n",
        "\n",
        "from sklearn.feature_extraction.text import TfidfVectorizer\n",
        "\n",
        "from sklearn.svm import LinearSVC\n",
        "from sklearn.linear_model import LogisticRegression\n",
        "from sklearn.metrics import classification_report\n",
        "from sklearn.model_selection import train_test_split\n",
        "from sklearn.naive_bayes import MultinomialNB\n",
        "from sklearn.metrics import classification_report, f1_score, accuracy_score, confusion_matrix\n",
        "from sklearn.metrics import roc_curve, auc, roc_auc_score\n",
        "\n",
        "from sklearn.cluster import KMeans\n",
        "from sklearn.metrics import adjusted_rand_score\n",
        "\n",
        "import gensim\n",
        "from gensim.utils import simple_preprocess\n",
        "from gensim.parsing.preprocessing import STOPWORDS\n",
        "from nltk.stem import WordNetLemmatizer, SnowballStemmer\n",
        "from nltk.stem.porter import *\n",
        "import numpy as np\n",
        "np.random.seed(2018)\n",
        "import nltk\n",
        "nltk.download('wordnet')"
      ],
      "metadata": {
        "colab": {
          "base_uri": "https://localhost:8080/"
        },
        "id": "6yxpTn8su6sT",
        "outputId": "f433b4e1-14ef-409c-c4cd-0fc2e6854b57"
      },
      "execution_count": null,
      "outputs": [
        {
          "output_type": "stream",
          "name": "stderr",
          "text": [
            "[nltk_data] Downloading package stopwords to /root/nltk_data...\n",
            "[nltk_data]   Package stopwords is already up-to-date!\n",
            "[nltk_data] Downloading package punkt to /root/nltk_data...\n",
            "[nltk_data]   Package punkt is already up-to-date!\n",
            "[nltk_data] Downloading package wordnet to /root/nltk_data...\n",
            "[nltk_data]   Package wordnet is already up-to-date!\n",
            "[nltk_data] Downloading package omw-1.4 to /root/nltk_data...\n",
            "[nltk_data]   Package omw-1.4 is already up-to-date!\n",
            "[nltk_data] Downloading package averaged_perceptron_tagger to\n",
            "[nltk_data]     /root/nltk_data...\n",
            "[nltk_data]   Package averaged_perceptron_tagger is already up-to-\n",
            "[nltk_data]       date!\n",
            "[nltk_data] Downloading package wordnet to /root/nltk_data...\n",
            "[nltk_data]   Package wordnet is already up-to-date!\n"
          ]
        },
        {
          "output_type": "execute_result",
          "data": {
            "text/plain": [
              "True"
            ]
          },
          "metadata": {},
          "execution_count": 1
        }
      ]
    },
    {
      "cell_type": "code",
      "source": [
        "# Loading IMDB Movie dataset\n",
        "data=pd.read_csv(\"amazon_reviews.csv\")\n",
        "data.head()"
      ],
      "metadata": {
        "colab": {
          "base_uri": "https://localhost:8080/",
          "height": 582
        },
        "id": "XShQx1yXu7bm",
        "outputId": "81fe39af-0016-42a8-b7fc-04f985486e60"
      },
      "execution_count": null,
      "outputs": [
        {
          "output_type": "execute_result",
          "data": {
            "text/plain": [
              "   Unnamed: 0 marketplace  customer_id       review_id  product_id  \\\n",
              "0           0          US     50423057  R135Q3VZ4DQN5N  B00JWXFDMG   \n",
              "1           1          US     11262325  R2N0QQ6R4T7YRY  B00W5T1H9W   \n",
              "2           2          US     27541121  R3N5JE5Y4T6W5M  B00M2L6KFY   \n",
              "3           3          US      5350721  R2I150CX5IVY9Q  B0006SW2WU   \n",
              "4           4          US     24484424  R1RM9ICOOA9MQ3  B009YPDW70   \n",
              "\n",
              "   product_parent                                      product_title  \\\n",
              "0       657335467  Everbling Purple and Clear Briolette Drop Swar...   \n",
              "1        26030170  925 Sterling Silver Finish 6ct Simulated Diamo...   \n",
              "2       697845240  Sterling Silver Circle \"Friends Forever\" Infin...   \n",
              "3       569859289  Surgical Stainless Steel Domed 9mm Fishbone Ri...   \n",
              "4       332947422       Sterling Silver Family Pendant Necklace, 18\"   \n",
              "\n",
              "  product_category  star_rating  helpful_votes  total_votes vine  \\\n",
              "0          Jewelry            5              0            0    N   \n",
              "1          Jewelry            5              0            0    N   \n",
              "2          Jewelry            5              0            0    N   \n",
              "3          Jewelry            5              0            0    N   \n",
              "4          Jewelry            5              0            0    N   \n",
              "\n",
              "  verified_purchase                                    review_headline  \\\n",
              "0                 Y                                          Beauties!   \n",
              "1                 N                                     Great product.   \n",
              "2                 Y  Exactly as pictured and my daughter's friend l...   \n",
              "3                 Y                                         Five Stars   \n",
              "4                 Y  ... a Mother's Day gift for my Mom and she lov...   \n",
              "\n",
              "                                         review_body review_date  \n",
              "0  so beautiful even tho clearly not high end ......  2015-08-31  \n",
              "1  Great product.. I got this set for my mother, ...  2015-08-31  \n",
              "2  Exactly as pictured and my daughter's friend l...  2015-08-31  \n",
              "3  Love it. Fits great. Super comfortable and nea...  2015-08-31  \n",
              "4  Got this as a Mother's Day gift for my Mom and...  2015-08-31  "
            ],
            "text/html": [
              "\n",
              "  <div id=\"df-59be5090-094c-4b27-a367-e222bec445b3\">\n",
              "    <div class=\"colab-df-container\">\n",
              "      <div>\n",
              "<style scoped>\n",
              "    .dataframe tbody tr th:only-of-type {\n",
              "        vertical-align: middle;\n",
              "    }\n",
              "\n",
              "    .dataframe tbody tr th {\n",
              "        vertical-align: top;\n",
              "    }\n",
              "\n",
              "    .dataframe thead th {\n",
              "        text-align: right;\n",
              "    }\n",
              "</style>\n",
              "<table border=\"1\" class=\"dataframe\">\n",
              "  <thead>\n",
              "    <tr style=\"text-align: right;\">\n",
              "      <th></th>\n",
              "      <th>Unnamed: 0</th>\n",
              "      <th>marketplace</th>\n",
              "      <th>customer_id</th>\n",
              "      <th>review_id</th>\n",
              "      <th>product_id</th>\n",
              "      <th>product_parent</th>\n",
              "      <th>product_title</th>\n",
              "      <th>product_category</th>\n",
              "      <th>star_rating</th>\n",
              "      <th>helpful_votes</th>\n",
              "      <th>total_votes</th>\n",
              "      <th>vine</th>\n",
              "      <th>verified_purchase</th>\n",
              "      <th>review_headline</th>\n",
              "      <th>review_body</th>\n",
              "      <th>review_date</th>\n",
              "    </tr>\n",
              "  </thead>\n",
              "  <tbody>\n",
              "    <tr>\n",
              "      <th>0</th>\n",
              "      <td>0</td>\n",
              "      <td>US</td>\n",
              "      <td>50423057</td>\n",
              "      <td>R135Q3VZ4DQN5N</td>\n",
              "      <td>B00JWXFDMG</td>\n",
              "      <td>657335467</td>\n",
              "      <td>Everbling Purple and Clear Briolette Drop Swar...</td>\n",
              "      <td>Jewelry</td>\n",
              "      <td>5</td>\n",
              "      <td>0</td>\n",
              "      <td>0</td>\n",
              "      <td>N</td>\n",
              "      <td>Y</td>\n",
              "      <td>Beauties!</td>\n",
              "      <td>so beautiful even tho clearly not high end ......</td>\n",
              "      <td>2015-08-31</td>\n",
              "    </tr>\n",
              "    <tr>\n",
              "      <th>1</th>\n",
              "      <td>1</td>\n",
              "      <td>US</td>\n",
              "      <td>11262325</td>\n",
              "      <td>R2N0QQ6R4T7YRY</td>\n",
              "      <td>B00W5T1H9W</td>\n",
              "      <td>26030170</td>\n",
              "      <td>925 Sterling Silver Finish 6ct Simulated Diamo...</td>\n",
              "      <td>Jewelry</td>\n",
              "      <td>5</td>\n",
              "      <td>0</td>\n",
              "      <td>0</td>\n",
              "      <td>N</td>\n",
              "      <td>N</td>\n",
              "      <td>Great product.</td>\n",
              "      <td>Great product.. I got this set for my mother, ...</td>\n",
              "      <td>2015-08-31</td>\n",
              "    </tr>\n",
              "    <tr>\n",
              "      <th>2</th>\n",
              "      <td>2</td>\n",
              "      <td>US</td>\n",
              "      <td>27541121</td>\n",
              "      <td>R3N5JE5Y4T6W5M</td>\n",
              "      <td>B00M2L6KFY</td>\n",
              "      <td>697845240</td>\n",
              "      <td>Sterling Silver Circle \"Friends Forever\" Infin...</td>\n",
              "      <td>Jewelry</td>\n",
              "      <td>5</td>\n",
              "      <td>0</td>\n",
              "      <td>0</td>\n",
              "      <td>N</td>\n",
              "      <td>Y</td>\n",
              "      <td>Exactly as pictured and my daughter's friend l...</td>\n",
              "      <td>Exactly as pictured and my daughter's friend l...</td>\n",
              "      <td>2015-08-31</td>\n",
              "    </tr>\n",
              "    <tr>\n",
              "      <th>3</th>\n",
              "      <td>3</td>\n",
              "      <td>US</td>\n",
              "      <td>5350721</td>\n",
              "      <td>R2I150CX5IVY9Q</td>\n",
              "      <td>B0006SW2WU</td>\n",
              "      <td>569859289</td>\n",
              "      <td>Surgical Stainless Steel Domed 9mm Fishbone Ri...</td>\n",
              "      <td>Jewelry</td>\n",
              "      <td>5</td>\n",
              "      <td>0</td>\n",
              "      <td>0</td>\n",
              "      <td>N</td>\n",
              "      <td>Y</td>\n",
              "      <td>Five Stars</td>\n",
              "      <td>Love it. Fits great. Super comfortable and nea...</td>\n",
              "      <td>2015-08-31</td>\n",
              "    </tr>\n",
              "    <tr>\n",
              "      <th>4</th>\n",
              "      <td>4</td>\n",
              "      <td>US</td>\n",
              "      <td>24484424</td>\n",
              "      <td>R1RM9ICOOA9MQ3</td>\n",
              "      <td>B009YPDW70</td>\n",
              "      <td>332947422</td>\n",
              "      <td>Sterling Silver Family Pendant Necklace, 18\"</td>\n",
              "      <td>Jewelry</td>\n",
              "      <td>5</td>\n",
              "      <td>0</td>\n",
              "      <td>0</td>\n",
              "      <td>N</td>\n",
              "      <td>Y</td>\n",
              "      <td>... a Mother's Day gift for my Mom and she lov...</td>\n",
              "      <td>Got this as a Mother's Day gift for my Mom and...</td>\n",
              "      <td>2015-08-31</td>\n",
              "    </tr>\n",
              "  </tbody>\n",
              "</table>\n",
              "</div>\n",
              "      <button class=\"colab-df-convert\" onclick=\"convertToInteractive('df-59be5090-094c-4b27-a367-e222bec445b3')\"\n",
              "              title=\"Convert this dataframe to an interactive table.\"\n",
              "              style=\"display:none;\">\n",
              "        \n",
              "  <svg xmlns=\"http://www.w3.org/2000/svg\" height=\"24px\"viewBox=\"0 0 24 24\"\n",
              "       width=\"24px\">\n",
              "    <path d=\"M0 0h24v24H0V0z\" fill=\"none\"/>\n",
              "    <path d=\"M18.56 5.44l.94 2.06.94-2.06 2.06-.94-2.06-.94-.94-2.06-.94 2.06-2.06.94zm-11 1L8.5 8.5l.94-2.06 2.06-.94-2.06-.94L8.5 2.5l-.94 2.06-2.06.94zm10 10l.94 2.06.94-2.06 2.06-.94-2.06-.94-.94-2.06-.94 2.06-2.06.94z\"/><path d=\"M17.41 7.96l-1.37-1.37c-.4-.4-.92-.59-1.43-.59-.52 0-1.04.2-1.43.59L10.3 9.45l-7.72 7.72c-.78.78-.78 2.05 0 2.83L4 21.41c.39.39.9.59 1.41.59.51 0 1.02-.2 1.41-.59l7.78-7.78 2.81-2.81c.8-.78.8-2.07 0-2.86zM5.41 20L4 18.59l7.72-7.72 1.47 1.35L5.41 20z\"/>\n",
              "  </svg>\n",
              "      </button>\n",
              "      \n",
              "  <style>\n",
              "    .colab-df-container {\n",
              "      display:flex;\n",
              "      flex-wrap:wrap;\n",
              "      gap: 12px;\n",
              "    }\n",
              "\n",
              "    .colab-df-convert {\n",
              "      background-color: #E8F0FE;\n",
              "      border: none;\n",
              "      border-radius: 50%;\n",
              "      cursor: pointer;\n",
              "      display: none;\n",
              "      fill: #1967D2;\n",
              "      height: 32px;\n",
              "      padding: 0 0 0 0;\n",
              "      width: 32px;\n",
              "    }\n",
              "\n",
              "    .colab-df-convert:hover {\n",
              "      background-color: #E2EBFA;\n",
              "      box-shadow: 0px 1px 2px rgba(60, 64, 67, 0.3), 0px 1px 3px 1px rgba(60, 64, 67, 0.15);\n",
              "      fill: #174EA6;\n",
              "    }\n",
              "\n",
              "    [theme=dark] .colab-df-convert {\n",
              "      background-color: #3B4455;\n",
              "      fill: #D2E3FC;\n",
              "    }\n",
              "\n",
              "    [theme=dark] .colab-df-convert:hover {\n",
              "      background-color: #434B5C;\n",
              "      box-shadow: 0px 1px 3px 1px rgba(0, 0, 0, 0.15);\n",
              "      filter: drop-shadow(0px 1px 2px rgba(0, 0, 0, 0.3));\n",
              "      fill: #FFFFFF;\n",
              "    }\n",
              "  </style>\n",
              "\n",
              "      <script>\n",
              "        const buttonEl =\n",
              "          document.querySelector('#df-59be5090-094c-4b27-a367-e222bec445b3 button.colab-df-convert');\n",
              "        buttonEl.style.display =\n",
              "          google.colab.kernel.accessAllowed ? 'block' : 'none';\n",
              "\n",
              "        async function convertToInteractive(key) {\n",
              "          const element = document.querySelector('#df-59be5090-094c-4b27-a367-e222bec445b3');\n",
              "          const dataTable =\n",
              "            await google.colab.kernel.invokeFunction('convertToInteractive',\n",
              "                                                     [key], {});\n",
              "          if (!dataTable) return;\n",
              "\n",
              "          const docLinkHtml = 'Like what you see? Visit the ' +\n",
              "            '<a target=\"_blank\" href=https://colab.research.google.com/notebooks/data_table.ipynb>data table notebook</a>'\n",
              "            + ' to learn more about interactive tables.';\n",
              "          element.innerHTML = '';\n",
              "          dataTable['output_type'] = 'display_data';\n",
              "          await google.colab.output.renderOutput(dataTable, element);\n",
              "          const docLink = document.createElement('div');\n",
              "          docLink.innerHTML = docLinkHtml;\n",
              "          element.appendChild(docLink);\n",
              "        }\n",
              "      </script>\n",
              "    </div>\n",
              "  </div>\n",
              "  "
            ]
          },
          "metadata": {},
          "execution_count": 2
        }
      ]
    },
    {
      "cell_type": "code",
      "source": [
        "data = data[['review_body','star_rating']]"
      ],
      "metadata": {
        "id": "eM49Yie8I8mR"
      },
      "execution_count": null,
      "outputs": []
    },
    {
      "cell_type": "code",
      "source": [
        "# Data cleaning\n",
        "data =  data.dropna()\n",
        "data = data.reset_index(drop=True)\n",
        "data.head()"
      ],
      "metadata": {
        "colab": {
          "base_uri": "https://localhost:8080/",
          "height": 206
        },
        "id": "k14OSg4CJTeL",
        "outputId": "b08e98a5-5466-43e4-be70-79c9203d23f7"
      },
      "execution_count": null,
      "outputs": [
        {
          "output_type": "execute_result",
          "data": {
            "text/plain": [
              "                                         review_body  star_rating\n",
              "0  so beautiful even tho clearly not high end ......            5\n",
              "1  Great product.. I got this set for my mother, ...            5\n",
              "2  Exactly as pictured and my daughter's friend l...            5\n",
              "3  Love it. Fits great. Super comfortable and nea...            5\n",
              "4  Got this as a Mother's Day gift for my Mom and...            5"
            ],
            "text/html": [
              "\n",
              "  <div id=\"df-589fc118-be30-4bf0-8ca8-9cb7e13fe7f6\">\n",
              "    <div class=\"colab-df-container\">\n",
              "      <div>\n",
              "<style scoped>\n",
              "    .dataframe tbody tr th:only-of-type {\n",
              "        vertical-align: middle;\n",
              "    }\n",
              "\n",
              "    .dataframe tbody tr th {\n",
              "        vertical-align: top;\n",
              "    }\n",
              "\n",
              "    .dataframe thead th {\n",
              "        text-align: right;\n",
              "    }\n",
              "</style>\n",
              "<table border=\"1\" class=\"dataframe\">\n",
              "  <thead>\n",
              "    <tr style=\"text-align: right;\">\n",
              "      <th></th>\n",
              "      <th>review_body</th>\n",
              "      <th>star_rating</th>\n",
              "    </tr>\n",
              "  </thead>\n",
              "  <tbody>\n",
              "    <tr>\n",
              "      <th>0</th>\n",
              "      <td>so beautiful even tho clearly not high end ......</td>\n",
              "      <td>5</td>\n",
              "    </tr>\n",
              "    <tr>\n",
              "      <th>1</th>\n",
              "      <td>Great product.. I got this set for my mother, ...</td>\n",
              "      <td>5</td>\n",
              "    </tr>\n",
              "    <tr>\n",
              "      <th>2</th>\n",
              "      <td>Exactly as pictured and my daughter's friend l...</td>\n",
              "      <td>5</td>\n",
              "    </tr>\n",
              "    <tr>\n",
              "      <th>3</th>\n",
              "      <td>Love it. Fits great. Super comfortable and nea...</td>\n",
              "      <td>5</td>\n",
              "    </tr>\n",
              "    <tr>\n",
              "      <th>4</th>\n",
              "      <td>Got this as a Mother's Day gift for my Mom and...</td>\n",
              "      <td>5</td>\n",
              "    </tr>\n",
              "  </tbody>\n",
              "</table>\n",
              "</div>\n",
              "      <button class=\"colab-df-convert\" onclick=\"convertToInteractive('df-589fc118-be30-4bf0-8ca8-9cb7e13fe7f6')\"\n",
              "              title=\"Convert this dataframe to an interactive table.\"\n",
              "              style=\"display:none;\">\n",
              "        \n",
              "  <svg xmlns=\"http://www.w3.org/2000/svg\" height=\"24px\"viewBox=\"0 0 24 24\"\n",
              "       width=\"24px\">\n",
              "    <path d=\"M0 0h24v24H0V0z\" fill=\"none\"/>\n",
              "    <path d=\"M18.56 5.44l.94 2.06.94-2.06 2.06-.94-2.06-.94-.94-2.06-.94 2.06-2.06.94zm-11 1L8.5 8.5l.94-2.06 2.06-.94-2.06-.94L8.5 2.5l-.94 2.06-2.06.94zm10 10l.94 2.06.94-2.06 2.06-.94-2.06-.94-.94-2.06-.94 2.06-2.06.94z\"/><path d=\"M17.41 7.96l-1.37-1.37c-.4-.4-.92-.59-1.43-.59-.52 0-1.04.2-1.43.59L10.3 9.45l-7.72 7.72c-.78.78-.78 2.05 0 2.83L4 21.41c.39.39.9.59 1.41.59.51 0 1.02-.2 1.41-.59l7.78-7.78 2.81-2.81c.8-.78.8-2.07 0-2.86zM5.41 20L4 18.59l7.72-7.72 1.47 1.35L5.41 20z\"/>\n",
              "  </svg>\n",
              "      </button>\n",
              "      \n",
              "  <style>\n",
              "    .colab-df-container {\n",
              "      display:flex;\n",
              "      flex-wrap:wrap;\n",
              "      gap: 12px;\n",
              "    }\n",
              "\n",
              "    .colab-df-convert {\n",
              "      background-color: #E8F0FE;\n",
              "      border: none;\n",
              "      border-radius: 50%;\n",
              "      cursor: pointer;\n",
              "      display: none;\n",
              "      fill: #1967D2;\n",
              "      height: 32px;\n",
              "      padding: 0 0 0 0;\n",
              "      width: 32px;\n",
              "    }\n",
              "\n",
              "    .colab-df-convert:hover {\n",
              "      background-color: #E2EBFA;\n",
              "      box-shadow: 0px 1px 2px rgba(60, 64, 67, 0.3), 0px 1px 3px 1px rgba(60, 64, 67, 0.15);\n",
              "      fill: #174EA6;\n",
              "    }\n",
              "\n",
              "    [theme=dark] .colab-df-convert {\n",
              "      background-color: #3B4455;\n",
              "      fill: #D2E3FC;\n",
              "    }\n",
              "\n",
              "    [theme=dark] .colab-df-convert:hover {\n",
              "      background-color: #434B5C;\n",
              "      box-shadow: 0px 1px 3px 1px rgba(0, 0, 0, 0.15);\n",
              "      filter: drop-shadow(0px 1px 2px rgba(0, 0, 0, 0.3));\n",
              "      fill: #FFFFFF;\n",
              "    }\n",
              "  </style>\n",
              "\n",
              "      <script>\n",
              "        const buttonEl =\n",
              "          document.querySelector('#df-589fc118-be30-4bf0-8ca8-9cb7e13fe7f6 button.colab-df-convert');\n",
              "        buttonEl.style.display =\n",
              "          google.colab.kernel.accessAllowed ? 'block' : 'none';\n",
              "\n",
              "        async function convertToInteractive(key) {\n",
              "          const element = document.querySelector('#df-589fc118-be30-4bf0-8ca8-9cb7e13fe7f6');\n",
              "          const dataTable =\n",
              "            await google.colab.kernel.invokeFunction('convertToInteractive',\n",
              "                                                     [key], {});\n",
              "          if (!dataTable) return;\n",
              "\n",
              "          const docLinkHtml = 'Like what you see? Visit the ' +\n",
              "            '<a target=\"_blank\" href=https://colab.research.google.com/notebooks/data_table.ipynb>data table notebook</a>'\n",
              "            + ' to learn more about interactive tables.';\n",
              "          element.innerHTML = '';\n",
              "          dataTable['output_type'] = 'display_data';\n",
              "          await google.colab.output.renderOutput(dataTable, element);\n",
              "          const docLink = document.createElement('div');\n",
              "          docLink.innerHTML = docLinkHtml;\n",
              "          element.appendChild(docLink);\n",
              "        }\n",
              "      </script>\n",
              "    </div>\n",
              "  </div>\n",
              "  "
            ]
          },
          "metadata": {},
          "execution_count": 4
        }
      ]
    },
    {
      "cell_type": "code",
      "source": [
        "# Data Manipulation\n",
        "data['star_rating'] = data['star_rating'].astype(int) #convert the star_rating column to int\n",
        "data = data[data['star_rating']!=3]\n",
        "data['label'] = np.where(data['star_rating']>=4,1,0) #1-Positve,0-Negative"
      ],
      "metadata": {
        "id": "wr6hzg_hJUNY"
      },
      "execution_count": null,
      "outputs": []
    },
    {
      "cell_type": "code",
      "source": [
        "data['label'].value_counts()"
      ],
      "metadata": {
        "colab": {
          "base_uri": "https://localhost:8080/"
        },
        "id": "8ZH7Ln0gvPKL",
        "outputId": "27ed91c3-1348-497d-9f53-15f05e84829c"
      },
      "execution_count": null,
      "outputs": [
        {
          "output_type": "execute_result",
          "data": {
            "text/plain": [
              "1    76596\n",
              "0    14846\n",
              "Name: label, dtype: int64"
            ]
          },
          "metadata": {},
          "execution_count": 6
        }
      ]
    },
    {
      "cell_type": "markdown",
      "source": [
        "# Text Pre Processing"
      ],
      "metadata": {
        "id": "VWyS-DQG9TPs"
      }
    },
    {
      "cell_type": "code",
      "source": [
        "# Preprocessing steps\n",
        "import string\n",
        "def preprocess(text):\n",
        "    text = text.lower() # Lowercasing\n",
        "    text=text.strip()\n",
        "    text=re.compile('<.*?>').sub('', text) # Removing unnecessary characters\n",
        "    text = re.compile('[%s]' % re.escape(string.punctuation)).sub(' ', text)  # Removing punctuations\n",
        "    text = re.sub('\\s+', ' ', text)  # Removing spaces\n",
        "    text = re.sub(r'\\[[0-9]*\\]',' ',text) # Removing numbers\n",
        "    text=re.sub(r'[^\\w\\s]', '', str(text).lower().strip())\n",
        "    text = re.sub(r'\\d',' ',text) # Removing digits\n",
        "    text = re.sub(r'\\s+',' ',text)\n",
        "    return text"
      ],
      "metadata": {
        "id": "CAJPm-Mf9Snl"
      },
      "execution_count": null,
      "outputs": []
    },
    {
      "cell_type": "code",
      "source": [
        "# STOPWORD REMOVAL\n",
        "def stopword(string):\n",
        "    a= [i for i in string.split() if i not in stop]\n",
        "    return ' '.join(a)\n"
      ],
      "metadata": {
        "id": "MbK5QMji9fDn"
      },
      "execution_count": null,
      "outputs": []
    },
    {
      "cell_type": "code",
      "source": [
        "# Lemmatization\n",
        "wl = WordNetLemmatizer()"
      ],
      "metadata": {
        "id": "Z_sJhd9f9ldy"
      },
      "execution_count": null,
      "outputs": []
    },
    {
      "cell_type": "code",
      "source": [
        "# This is a helper function to map NTLK position tags\n",
        "def get_wordnet_pos(tag):\n",
        "    if tag.startswith('J'):\n",
        "        return wordnet.ADJ\n",
        "    elif tag.startswith('V'):\n",
        "        return wordnet.VERB\n",
        "    elif tag.startswith('N'):\n",
        "        return wordnet.NOUN\n",
        "    elif tag.startswith('R'):\n",
        "        return wordnet.ADV\n",
        "    else:\n",
        "        return wordnet.NOUN"
      ],
      "metadata": {
        "id": "Tw7OeIIG9n_T"
      },
      "execution_count": null,
      "outputs": []
    },
    {
      "cell_type": "code",
      "source": [
        "# Tokenizing the sentence\n",
        "nltk.download('stopwords')\n",
        "from nltk.corpus import stopwords\n",
        "stop = stopwords.words('english')\n",
        "\n",
        "def lemmatizer(string):\n",
        "    word_pos_tags = nltk.pos_tag(word_tokenize(string)) # Get position tags\n",
        "    a=[wl.lemmatize(tag[0], get_wordnet_pos(tag[1])) for idx, tag in enumerate(word_pos_tags)] # Map the position tag and lemmatize the word/token\n",
        "    return \" \".join(a)"
      ],
      "metadata": {
        "id": "K4cNwxLv9t4C",
        "colab": {
          "base_uri": "https://localhost:8080/"
        },
        "outputId": "c7966626-431b-4583-ab2c-c099d256e948"
      },
      "execution_count": null,
      "outputs": [
        {
          "output_type": "stream",
          "name": "stderr",
          "text": [
            "[nltk_data] Downloading package stopwords to /root/nltk_data...\n",
            "[nltk_data]   Package stopwords is already up-to-date!\n"
          ]
        }
      ]
    },
    {
      "cell_type": "code",
      "source": [
        "def finalpreprocess(string):\n",
        "    return lemmatizer(stopword(preprocess(string)))\n",
        "data['pre_processed'] = data['review_body'].apply(lambda x: finalpreprocess(x))\n",
        "data.head()"
      ],
      "metadata": {
        "colab": {
          "base_uri": "https://localhost:8080/",
          "height": 206
        },
        "id": "xzIsBd2E9vyG",
        "outputId": "f062b1bd-8098-4d0e-988e-3222ebe94e5c"
      },
      "execution_count": null,
      "outputs": [
        {
          "output_type": "execute_result",
          "data": {
            "text/plain": [
              "                                         review_body  star_rating  label  \\\n",
              "0  so beautiful even tho clearly not high end ......            5      1   \n",
              "1  Great product.. I got this set for my mother, ...            5      1   \n",
              "2  Exactly as pictured and my daughter's friend l...            5      1   \n",
              "3  Love it. Fits great. Super comfortable and nea...            5      1   \n",
              "4  Got this as a Mother's Day gift for my Mom and...            5      1   \n",
              "\n",
              "                                       pre_processed  \n",
              "0  beautiful even tho clearly high end super grea...  \n",
              "1  great product get set mother allergic bijou pr...  \n",
              "2  exactly picture daughter friend love come pack...  \n",
              "3  love fit great super comfortable neat idea fis...  \n",
              "4  get mother day gift mom love really nice quali...  "
            ],
            "text/html": [
              "\n",
              "  <div id=\"df-fbb6447d-60be-40ee-bca3-166c4ede41f7\">\n",
              "    <div class=\"colab-df-container\">\n",
              "      <div>\n",
              "<style scoped>\n",
              "    .dataframe tbody tr th:only-of-type {\n",
              "        vertical-align: middle;\n",
              "    }\n",
              "\n",
              "    .dataframe tbody tr th {\n",
              "        vertical-align: top;\n",
              "    }\n",
              "\n",
              "    .dataframe thead th {\n",
              "        text-align: right;\n",
              "    }\n",
              "</style>\n",
              "<table border=\"1\" class=\"dataframe\">\n",
              "  <thead>\n",
              "    <tr style=\"text-align: right;\">\n",
              "      <th></th>\n",
              "      <th>review_body</th>\n",
              "      <th>star_rating</th>\n",
              "      <th>label</th>\n",
              "      <th>pre_processed</th>\n",
              "    </tr>\n",
              "  </thead>\n",
              "  <tbody>\n",
              "    <tr>\n",
              "      <th>0</th>\n",
              "      <td>so beautiful even tho clearly not high end ......</td>\n",
              "      <td>5</td>\n",
              "      <td>1</td>\n",
              "      <td>beautiful even tho clearly high end super grea...</td>\n",
              "    </tr>\n",
              "    <tr>\n",
              "      <th>1</th>\n",
              "      <td>Great product.. I got this set for my mother, ...</td>\n",
              "      <td>5</td>\n",
              "      <td>1</td>\n",
              "      <td>great product get set mother allergic bijou pr...</td>\n",
              "    </tr>\n",
              "    <tr>\n",
              "      <th>2</th>\n",
              "      <td>Exactly as pictured and my daughter's friend l...</td>\n",
              "      <td>5</td>\n",
              "      <td>1</td>\n",
              "      <td>exactly picture daughter friend love come pack...</td>\n",
              "    </tr>\n",
              "    <tr>\n",
              "      <th>3</th>\n",
              "      <td>Love it. Fits great. Super comfortable and nea...</td>\n",
              "      <td>5</td>\n",
              "      <td>1</td>\n",
              "      <td>love fit great super comfortable neat idea fis...</td>\n",
              "    </tr>\n",
              "    <tr>\n",
              "      <th>4</th>\n",
              "      <td>Got this as a Mother's Day gift for my Mom and...</td>\n",
              "      <td>5</td>\n",
              "      <td>1</td>\n",
              "      <td>get mother day gift mom love really nice quali...</td>\n",
              "    </tr>\n",
              "  </tbody>\n",
              "</table>\n",
              "</div>\n",
              "      <button class=\"colab-df-convert\" onclick=\"convertToInteractive('df-fbb6447d-60be-40ee-bca3-166c4ede41f7')\"\n",
              "              title=\"Convert this dataframe to an interactive table.\"\n",
              "              style=\"display:none;\">\n",
              "        \n",
              "  <svg xmlns=\"http://www.w3.org/2000/svg\" height=\"24px\"viewBox=\"0 0 24 24\"\n",
              "       width=\"24px\">\n",
              "    <path d=\"M0 0h24v24H0V0z\" fill=\"none\"/>\n",
              "    <path d=\"M18.56 5.44l.94 2.06.94-2.06 2.06-.94-2.06-.94-.94-2.06-.94 2.06-2.06.94zm-11 1L8.5 8.5l.94-2.06 2.06-.94-2.06-.94L8.5 2.5l-.94 2.06-2.06.94zm10 10l.94 2.06.94-2.06 2.06-.94-2.06-.94-.94-2.06-.94 2.06-2.06.94z\"/><path d=\"M17.41 7.96l-1.37-1.37c-.4-.4-.92-.59-1.43-.59-.52 0-1.04.2-1.43.59L10.3 9.45l-7.72 7.72c-.78.78-.78 2.05 0 2.83L4 21.41c.39.39.9.59 1.41.59.51 0 1.02-.2 1.41-.59l7.78-7.78 2.81-2.81c.8-.78.8-2.07 0-2.86zM5.41 20L4 18.59l7.72-7.72 1.47 1.35L5.41 20z\"/>\n",
              "  </svg>\n",
              "      </button>\n",
              "      \n",
              "  <style>\n",
              "    .colab-df-container {\n",
              "      display:flex;\n",
              "      flex-wrap:wrap;\n",
              "      gap: 12px;\n",
              "    }\n",
              "\n",
              "    .colab-df-convert {\n",
              "      background-color: #E8F0FE;\n",
              "      border: none;\n",
              "      border-radius: 50%;\n",
              "      cursor: pointer;\n",
              "      display: none;\n",
              "      fill: #1967D2;\n",
              "      height: 32px;\n",
              "      padding: 0 0 0 0;\n",
              "      width: 32px;\n",
              "    }\n",
              "\n",
              "    .colab-df-convert:hover {\n",
              "      background-color: #E2EBFA;\n",
              "      box-shadow: 0px 1px 2px rgba(60, 64, 67, 0.3), 0px 1px 3px 1px rgba(60, 64, 67, 0.15);\n",
              "      fill: #174EA6;\n",
              "    }\n",
              "\n",
              "    [theme=dark] .colab-df-convert {\n",
              "      background-color: #3B4455;\n",
              "      fill: #D2E3FC;\n",
              "    }\n",
              "\n",
              "    [theme=dark] .colab-df-convert:hover {\n",
              "      background-color: #434B5C;\n",
              "      box-shadow: 0px 1px 3px 1px rgba(0, 0, 0, 0.15);\n",
              "      filter: drop-shadow(0px 1px 2px rgba(0, 0, 0, 0.3));\n",
              "      fill: #FFFFFF;\n",
              "    }\n",
              "  </style>\n",
              "\n",
              "      <script>\n",
              "        const buttonEl =\n",
              "          document.querySelector('#df-fbb6447d-60be-40ee-bca3-166c4ede41f7 button.colab-df-convert');\n",
              "        buttonEl.style.display =\n",
              "          google.colab.kernel.accessAllowed ? 'block' : 'none';\n",
              "\n",
              "        async function convertToInteractive(key) {\n",
              "          const element = document.querySelector('#df-fbb6447d-60be-40ee-bca3-166c4ede41f7');\n",
              "          const dataTable =\n",
              "            await google.colab.kernel.invokeFunction('convertToInteractive',\n",
              "                                                     [key], {});\n",
              "          if (!dataTable) return;\n",
              "\n",
              "          const docLinkHtml = 'Like what you see? Visit the ' +\n",
              "            '<a target=\"_blank\" href=https://colab.research.google.com/notebooks/data_table.ipynb>data table notebook</a>'\n",
              "            + ' to learn more about interactive tables.';\n",
              "          element.innerHTML = '';\n",
              "          dataTable['output_type'] = 'display_data';\n",
              "          await google.colab.output.renderOutput(dataTable, element);\n",
              "          const docLink = document.createElement('div');\n",
              "          docLink.innerHTML = docLinkHtml;\n",
              "          element.appendChild(docLink);\n",
              "        }\n",
              "      </script>\n",
              "    </div>\n",
              "  </div>\n",
              "  "
            ]
          },
          "metadata": {},
          "execution_count": 12
        }
      ]
    },
    {
      "cell_type": "markdown",
      "source": [
        "# Descriptive Statistics"
      ],
      "metadata": {
        "id": "_Ch2IsIP0sfz"
      }
    },
    {
      "cell_type": "code",
      "source": [
        "# Creating descriptive dataframe\n",
        "descriptive_df = data[['pre_processed']]\n",
        "descriptive_df"
      ],
      "metadata": {
        "colab": {
          "base_uri": "https://localhost:8080/",
          "height": 423
        },
        "id": "aLpIRZ3r4CJ-",
        "outputId": "981f2917-82ab-4cd9-c1b8-8acd7f4f6e18"
      },
      "execution_count": null,
      "outputs": [
        {
          "output_type": "execute_result",
          "data": {
            "text/plain": [
              "                                           pre_processed\n",
              "0      beautiful even tho clearly high end super grea...\n",
              "1      great product get set mother allergic bijou pr...\n",
              "2      exactly picture daughter friend love come pack...\n",
              "3      love fit great super comfortable neat idea fis...\n",
              "4      get mother day gift mom love really nice quali...\n",
              "...                                                  ...\n",
              "99946    delivery quick bead loose u careful opening put\n",
              "99947  tiny cute th inch wide back sit securely notch...\n",
              "99948  beautiful stun cheapo piece afraid link stone ...\n",
              "99949  inlay almost holographic comfortable super wid...\n",
              "99950                even waste money back fit bent junk\n",
              "\n",
              "[91442 rows x 1 columns]"
            ],
            "text/html": [
              "\n",
              "  <div id=\"df-50a95ff3-16d9-434b-8a5b-37911c9ab0ef\">\n",
              "    <div class=\"colab-df-container\">\n",
              "      <div>\n",
              "<style scoped>\n",
              "    .dataframe tbody tr th:only-of-type {\n",
              "        vertical-align: middle;\n",
              "    }\n",
              "\n",
              "    .dataframe tbody tr th {\n",
              "        vertical-align: top;\n",
              "    }\n",
              "\n",
              "    .dataframe thead th {\n",
              "        text-align: right;\n",
              "    }\n",
              "</style>\n",
              "<table border=\"1\" class=\"dataframe\">\n",
              "  <thead>\n",
              "    <tr style=\"text-align: right;\">\n",
              "      <th></th>\n",
              "      <th>pre_processed</th>\n",
              "    </tr>\n",
              "  </thead>\n",
              "  <tbody>\n",
              "    <tr>\n",
              "      <th>0</th>\n",
              "      <td>beautiful even tho clearly high end super grea...</td>\n",
              "    </tr>\n",
              "    <tr>\n",
              "      <th>1</th>\n",
              "      <td>great product get set mother allergic bijou pr...</td>\n",
              "    </tr>\n",
              "    <tr>\n",
              "      <th>2</th>\n",
              "      <td>exactly picture daughter friend love come pack...</td>\n",
              "    </tr>\n",
              "    <tr>\n",
              "      <th>3</th>\n",
              "      <td>love fit great super comfortable neat idea fis...</td>\n",
              "    </tr>\n",
              "    <tr>\n",
              "      <th>4</th>\n",
              "      <td>get mother day gift mom love really nice quali...</td>\n",
              "    </tr>\n",
              "    <tr>\n",
              "      <th>...</th>\n",
              "      <td>...</td>\n",
              "    </tr>\n",
              "    <tr>\n",
              "      <th>99946</th>\n",
              "      <td>delivery quick bead loose u careful opening put</td>\n",
              "    </tr>\n",
              "    <tr>\n",
              "      <th>99947</th>\n",
              "      <td>tiny cute th inch wide back sit securely notch...</td>\n",
              "    </tr>\n",
              "    <tr>\n",
              "      <th>99948</th>\n",
              "      <td>beautiful stun cheapo piece afraid link stone ...</td>\n",
              "    </tr>\n",
              "    <tr>\n",
              "      <th>99949</th>\n",
              "      <td>inlay almost holographic comfortable super wid...</td>\n",
              "    </tr>\n",
              "    <tr>\n",
              "      <th>99950</th>\n",
              "      <td>even waste money back fit bent junk</td>\n",
              "    </tr>\n",
              "  </tbody>\n",
              "</table>\n",
              "<p>91442 rows × 1 columns</p>\n",
              "</div>\n",
              "      <button class=\"colab-df-convert\" onclick=\"convertToInteractive('df-50a95ff3-16d9-434b-8a5b-37911c9ab0ef')\"\n",
              "              title=\"Convert this dataframe to an interactive table.\"\n",
              "              style=\"display:none;\">\n",
              "        \n",
              "  <svg xmlns=\"http://www.w3.org/2000/svg\" height=\"24px\"viewBox=\"0 0 24 24\"\n",
              "       width=\"24px\">\n",
              "    <path d=\"M0 0h24v24H0V0z\" fill=\"none\"/>\n",
              "    <path d=\"M18.56 5.44l.94 2.06.94-2.06 2.06-.94-2.06-.94-.94-2.06-.94 2.06-2.06.94zm-11 1L8.5 8.5l.94-2.06 2.06-.94-2.06-.94L8.5 2.5l-.94 2.06-2.06.94zm10 10l.94 2.06.94-2.06 2.06-.94-2.06-.94-.94-2.06-.94 2.06-2.06.94z\"/><path d=\"M17.41 7.96l-1.37-1.37c-.4-.4-.92-.59-1.43-.59-.52 0-1.04.2-1.43.59L10.3 9.45l-7.72 7.72c-.78.78-.78 2.05 0 2.83L4 21.41c.39.39.9.59 1.41.59.51 0 1.02-.2 1.41-.59l7.78-7.78 2.81-2.81c.8-.78.8-2.07 0-2.86zM5.41 20L4 18.59l7.72-7.72 1.47 1.35L5.41 20z\"/>\n",
              "  </svg>\n",
              "      </button>\n",
              "      \n",
              "  <style>\n",
              "    .colab-df-container {\n",
              "      display:flex;\n",
              "      flex-wrap:wrap;\n",
              "      gap: 12px;\n",
              "    }\n",
              "\n",
              "    .colab-df-convert {\n",
              "      background-color: #E8F0FE;\n",
              "      border: none;\n",
              "      border-radius: 50%;\n",
              "      cursor: pointer;\n",
              "      display: none;\n",
              "      fill: #1967D2;\n",
              "      height: 32px;\n",
              "      padding: 0 0 0 0;\n",
              "      width: 32px;\n",
              "    }\n",
              "\n",
              "    .colab-df-convert:hover {\n",
              "      background-color: #E2EBFA;\n",
              "      box-shadow: 0px 1px 2px rgba(60, 64, 67, 0.3), 0px 1px 3px 1px rgba(60, 64, 67, 0.15);\n",
              "      fill: #174EA6;\n",
              "    }\n",
              "\n",
              "    [theme=dark] .colab-df-convert {\n",
              "      background-color: #3B4455;\n",
              "      fill: #D2E3FC;\n",
              "    }\n",
              "\n",
              "    [theme=dark] .colab-df-convert:hover {\n",
              "      background-color: #434B5C;\n",
              "      box-shadow: 0px 1px 3px 1px rgba(0, 0, 0, 0.15);\n",
              "      filter: drop-shadow(0px 1px 2px rgba(0, 0, 0, 0.3));\n",
              "      fill: #FFFFFF;\n",
              "    }\n",
              "  </style>\n",
              "\n",
              "      <script>\n",
              "        const buttonEl =\n",
              "          document.querySelector('#df-50a95ff3-16d9-434b-8a5b-37911c9ab0ef button.colab-df-convert');\n",
              "        buttonEl.style.display =\n",
              "          google.colab.kernel.accessAllowed ? 'block' : 'none';\n",
              "\n",
              "        async function convertToInteractive(key) {\n",
              "          const element = document.querySelector('#df-50a95ff3-16d9-434b-8a5b-37911c9ab0ef');\n",
              "          const dataTable =\n",
              "            await google.colab.kernel.invokeFunction('convertToInteractive',\n",
              "                                                     [key], {});\n",
              "          if (!dataTable) return;\n",
              "\n",
              "          const docLinkHtml = 'Like what you see? Visit the ' +\n",
              "            '<a target=\"_blank\" href=https://colab.research.google.com/notebooks/data_table.ipynb>data table notebook</a>'\n",
              "            + ' to learn more about interactive tables.';\n",
              "          element.innerHTML = '';\n",
              "          dataTable['output_type'] = 'display_data';\n",
              "          await google.colab.output.renderOutput(dataTable, element);\n",
              "          const docLink = document.createElement('div');\n",
              "          docLink.innerHTML = docLinkHtml;\n",
              "          element.appendChild(docLink);\n",
              "        }\n",
              "      </script>\n",
              "    </div>\n",
              "  </div>\n",
              "  "
            ]
          },
          "metadata": {},
          "execution_count": 13
        }
      ]
    },
    {
      "cell_type": "code",
      "source": [
        "text = ' '.join(review for review in data['pre_processed'])\n",
        "print('Thre are {} words from all reviews.'.format(len(text)))"
      ],
      "metadata": {
        "colab": {
          "base_uri": "https://localhost:8080/"
        },
        "id": "1SkpP1Mn0vwp",
        "outputId": "4bc420d8-e8c9-4813-c71a-9767556e4ac2"
      },
      "execution_count": null,
      "outputs": [
        {
          "output_type": "stream",
          "name": "stdout",
          "text": [
            "Thre are 6632542 words from all reviews.\n"
          ]
        }
      ]
    },
    {
      "cell_type": "code",
      "source": [
        "# WordCloud\n",
        "stopwords = set(stop)\n",
        "wordcloud= WordCloud(mode = 'RGBA', max_font_size=100, stopwords=stopwords, max_words = 50,\n",
        "                     background_color= None).generate(text)\n",
        "plt.imshow(wordcloud, interpolation = 'mitchell')\n",
        "plt.axis('off')\n",
        "plt.show()"
      ],
      "metadata": {
        "colab": {
          "base_uri": "https://localhost:8080/",
          "height": 198
        },
        "id": "m-jYVMuM1HEk",
        "outputId": "4edeaf2f-12e5-48ba-b007-5139d4567fbf"
      },
      "execution_count": null,
      "outputs": [
        {
          "output_type": "display_data",
          "data": {
            "text/plain": [
              "<Figure size 432x288 with 1 Axes>"
            ],
            "image/png": "[encoded data removed]"
          },
          "metadata": {
            "needs_background": "light"
          }
        }
      ]
    },
    {
      "cell_type": "code",
      "source": [
        "# Word Count\n",
        "descriptive_df['word_count'] = descriptive_df['pre_processed'].apply(lambda x: len(str(x).split(\" \")))\n",
        "descriptive_df[['pre_processed','word_count']].head()"
      ],
      "metadata": {
        "colab": {
          "base_uri": "https://localhost:8080/",
          "height": 310
        },
        "id": "WThDwHJG335V",
        "outputId": "a450538d-c888-4324-bc48-6d40f62824e4"
      },
      "execution_count": null,
      "outputs": [
        {
          "output_type": "stream",
          "name": "stderr",
          "text": [
            "<ipython-input-16-7a49e2722360>:2: SettingWithCopyWarning: \n",
            "A value is trying to be set on a copy of a slice from a DataFrame.\n",
            "Try using .loc[row_indexer,col_indexer] = value instead\n",
            "\n",
            "See the caveats in the documentation: https://pandas.pydata.org/pandas-docs/stable/user_guide/indexing.html#returning-a-view-versus-a-copy\n",
            "  descriptive_df['word_count'] = descriptive_df['pre_processed'].apply(lambda x: len(str(x).split(\" \")))\n"
          ]
        },
        {
          "output_type": "execute_result",
          "data": {
            "text/plain": [
              "                                       pre_processed  word_count\n",
              "0  beautiful even tho clearly high end super grea...          20\n",
              "1  great product get set mother allergic bijou pr...          34\n",
              "2  exactly picture daughter friend love come pack...          14\n",
              "3  love fit great super comfortable neat idea fis...          11\n",
              "4  get mother day gift mom love really nice quali...          11"
            ],
            "text/html": [
              "\n",
              "  <div id=\"df-f169551e-9abc-4503-9ad4-5bc2a8a055fc\">\n",
              "    <div class=\"colab-df-container\">\n",
              "      <div>\n",
              "<style scoped>\n",
              "    .dataframe tbody tr th:only-of-type {\n",
              "        vertical-align: middle;\n",
              "    }\n",
              "\n",
              "    .dataframe tbody tr th {\n",
              "        vertical-align: top;\n",
              "    }\n",
              "\n",
              "    .dataframe thead th {\n",
              "        text-align: right;\n",
              "    }\n",
              "</style>\n",
              "<table border=\"1\" class=\"dataframe\">\n",
              "  <thead>\n",
              "    <tr style=\"text-align: right;\">\n",
              "      <th></th>\n",
              "      <th>pre_processed</th>\n",
              "      <th>word_count</th>\n",
              "    </tr>\n",
              "  </thead>\n",
              "  <tbody>\n",
              "    <tr>\n",
              "      <th>0</th>\n",
              "      <td>beautiful even tho clearly high end super grea...</td>\n",
              "      <td>20</td>\n",
              "    </tr>\n",
              "    <tr>\n",
              "      <th>1</th>\n",
              "      <td>great product get set mother allergic bijou pr...</td>\n",
              "      <td>34</td>\n",
              "    </tr>\n",
              "    <tr>\n",
              "      <th>2</th>\n",
              "      <td>exactly picture daughter friend love come pack...</td>\n",
              "      <td>14</td>\n",
              "    </tr>\n",
              "    <tr>\n",
              "      <th>3</th>\n",
              "      <td>love fit great super comfortable neat idea fis...</td>\n",
              "      <td>11</td>\n",
              "    </tr>\n",
              "    <tr>\n",
              "      <th>4</th>\n",
              "      <td>get mother day gift mom love really nice quali...</td>\n",
              "      <td>11</td>\n",
              "    </tr>\n",
              "  </tbody>\n",
              "</table>\n",
              "</div>\n",
              "      <button class=\"colab-df-convert\" onclick=\"convertToInteractive('df-f169551e-9abc-4503-9ad4-5bc2a8a055fc')\"\n",
              "              title=\"Convert this dataframe to an interactive table.\"\n",
              "              style=\"display:none;\">\n",
              "        \n",
              "  <svg xmlns=\"http://www.w3.org/2000/svg\" height=\"24px\"viewBox=\"0 0 24 24\"\n",
              "       width=\"24px\">\n",
              "    <path d=\"M0 0h24v24H0V0z\" fill=\"none\"/>\n",
              "    <path d=\"M18.56 5.44l.94 2.06.94-2.06 2.06-.94-2.06-.94-.94-2.06-.94 2.06-2.06.94zm-11 1L8.5 8.5l.94-2.06 2.06-.94-2.06-.94L8.5 2.5l-.94 2.06-2.06.94zm10 10l.94 2.06.94-2.06 2.06-.94-2.06-.94-.94-2.06-.94 2.06-2.06.94z\"/><path d=\"M17.41 7.96l-1.37-1.37c-.4-.4-.92-.59-1.43-.59-.52 0-1.04.2-1.43.59L10.3 9.45l-7.72 7.72c-.78.78-.78 2.05 0 2.83L4 21.41c.39.39.9.59 1.41.59.51 0 1.02-.2 1.41-.59l7.78-7.78 2.81-2.81c.8-.78.8-2.07 0-2.86zM5.41 20L4 18.59l7.72-7.72 1.47 1.35L5.41 20z\"/>\n",
              "  </svg>\n",
              "      </button>\n",
              "      \n",
              "  <style>\n",
              "    .colab-df-container {\n",
              "      display:flex;\n",
              "      flex-wrap:wrap;\n",
              "      gap: 12px;\n",
              "    }\n",
              "\n",
              "    .colab-df-convert {\n",
              "      background-color: #E8F0FE;\n",
              "      border: none;\n",
              "      border-radius: 50%;\n",
              "      cursor: pointer;\n",
              "      display: none;\n",
              "      fill: #1967D2;\n",
              "      height: 32px;\n",
              "      padding: 0 0 0 0;\n",
              "      width: 32px;\n",
              "    }\n",
              "\n",
              "    .colab-df-convert:hover {\n",
              "      background-color: #E2EBFA;\n",
              "      box-shadow: 0px 1px 2px rgba(60, 64, 67, 0.3), 0px 1px 3px 1px rgba(60, 64, 67, 0.15);\n",
              "      fill: #174EA6;\n",
              "    }\n",
              "\n",
              "    [theme=dark] .colab-df-convert {\n",
              "      background-color: #3B4455;\n",
              "      fill: #D2E3FC;\n",
              "    }\n",
              "\n",
              "    [theme=dark] .colab-df-convert:hover {\n",
              "      background-color: #434B5C;\n",
              "      box-shadow: 0px 1px 3px 1px rgba(0, 0, 0, 0.15);\n",
              "      filter: drop-shadow(0px 1px 2px rgba(0, 0, 0, 0.3));\n",
              "      fill: #FFFFFF;\n",
              "    }\n",
              "  </style>\n",
              "\n",
              "      <script>\n",
              "        const buttonEl =\n",
              "          document.querySelector('#df-f169551e-9abc-4503-9ad4-5bc2a8a055fc button.colab-df-convert');\n",
              "        buttonEl.style.display =\n",
              "          google.colab.kernel.accessAllowed ? 'block' : 'none';\n",
              "\n",
              "        async function convertToInteractive(key) {\n",
              "          const element = document.querySelector('#df-f169551e-9abc-4503-9ad4-5bc2a8a055fc');\n",
              "          const dataTable =\n",
              "            await google.colab.kernel.invokeFunction('convertToInteractive',\n",
              "                                                     [key], {});\n",
              "          if (!dataTable) return;\n",
              "\n",
              "          const docLinkHtml = 'Like what you see? Visit the ' +\n",
              "            '<a target=\"_blank\" href=https://colab.research.google.com/notebooks/data_table.ipynb>data table notebook</a>'\n",
              "            + ' to learn more about interactive tables.';\n",
              "          element.innerHTML = '';\n",
              "          dataTable['output_type'] = 'display_data';\n",
              "          await google.colab.output.renderOutput(dataTable, element);\n",
              "          const docLink = document.createElement('div');\n",
              "          docLink.innerHTML = docLinkHtml;\n",
              "          element.appendChild(docLink);\n",
              "        }\n",
              "      </script>\n",
              "    </div>\n",
              "  </div>\n",
              "  "
            ]
          },
          "metadata": {},
          "execution_count": 16
        }
      ]
    },
    {
      "cell_type": "code",
      "source": [
        "# Number of stopwords\n",
        "descriptive_df['stopwords'] = descriptive_df['pre_processed'].apply(lambda x: len([x for x in x.split() if x in stop]))\n",
        "descriptive_df[['pre_processed','stopwords']].head()"
      ],
      "metadata": {
        "colab": {
          "base_uri": "https://localhost:8080/",
          "height": 310
        },
        "id": "HG-gveeS4ncj",
        "outputId": "cf86cd7d-3453-4364-825e-64dbebf36a7c"
      },
      "execution_count": null,
      "outputs": [
        {
          "output_type": "stream",
          "name": "stderr",
          "text": [
            "<ipython-input-18-ff5733e075e7>:2: SettingWithCopyWarning: \n",
            "A value is trying to be set on a copy of a slice from a DataFrame.\n",
            "Try using .loc[row_indexer,col_indexer] = value instead\n",
            "\n",
            "See the caveats in the documentation: https://pandas.pydata.org/pandas-docs/stable/user_guide/indexing.html#returning-a-view-versus-a-copy\n",
            "  descriptive_df['stopwords'] = descriptive_df['pre_processed'].apply(lambda x: len([x for x in x.split() if x in stop]))\n"
          ]
        },
        {
          "output_type": "execute_result",
          "data": {
            "text/plain": [
              "                                       pre_processed  stopwords\n",
              "0  beautiful even tho clearly high end super grea...          0\n",
              "1  great product get set mother allergic bijou pr...          0\n",
              "2  exactly picture daughter friend love come pack...          0\n",
              "3  love fit great super comfortable neat idea fis...          0\n",
              "4  get mother day gift mom love really nice quali...          0"
            ],
            "text/html": [
              "\n",
              "  <div id=\"df-54802612-36d4-4680-9c0a-d12bc60c9d71\">\n",
              "    <div class=\"colab-df-container\">\n",
              "      <div>\n",
              "<style scoped>\n",
              "    .dataframe tbody tr th:only-of-type {\n",
              "        vertical-align: middle;\n",
              "    }\n",
              "\n",
              "    .dataframe tbody tr th {\n",
              "        vertical-align: top;\n",
              "    }\n",
              "\n",
              "    .dataframe thead th {\n",
              "        text-align: right;\n",
              "    }\n",
              "</style>\n",
              "<table border=\"1\" class=\"dataframe\">\n",
              "  <thead>\n",
              "    <tr style=\"text-align: right;\">\n",
              "      <th></th>\n",
              "      <th>pre_processed</th>\n",
              "      <th>stopwords</th>\n",
              "    </tr>\n",
              "  </thead>\n",
              "  <tbody>\n",
              "    <tr>\n",
              "      <th>0</th>\n",
              "      <td>beautiful even tho clearly high end super grea...</td>\n",
              "      <td>0</td>\n",
              "    </tr>\n",
              "    <tr>\n",
              "      <th>1</th>\n",
              "      <td>great product get set mother allergic bijou pr...</td>\n",
              "      <td>0</td>\n",
              "    </tr>\n",
              "    <tr>\n",
              "      <th>2</th>\n",
              "      <td>exactly picture daughter friend love come pack...</td>\n",
              "      <td>0</td>\n",
              "    </tr>\n",
              "    <tr>\n",
              "      <th>3</th>\n",
              "      <td>love fit great super comfortable neat idea fis...</td>\n",
              "      <td>0</td>\n",
              "    </tr>\n",
              "    <tr>\n",
              "      <th>4</th>\n",
              "      <td>get mother day gift mom love really nice quali...</td>\n",
              "      <td>0</td>\n",
              "    </tr>\n",
              "  </tbody>\n",
              "</table>\n",
              "</div>\n",
              "      <button class=\"colab-df-convert\" onclick=\"convertToInteractive('df-54802612-36d4-4680-9c0a-d12bc60c9d71')\"\n",
              "              title=\"Convert this dataframe to an interactive table.\"\n",
              "              style=\"display:none;\">\n",
              "        \n",
              "  <svg xmlns=\"http://www.w3.org/2000/svg\" height=\"24px\"viewBox=\"0 0 24 24\"\n",
              "       width=\"24px\">\n",
              "    <path d=\"M0 0h24v24H0V0z\" fill=\"none\"/>\n",
              "    <path d=\"M18.56 5.44l.94 2.06.94-2.06 2.06-.94-2.06-.94-.94-2.06-.94 2.06-2.06.94zm-11 1L8.5 8.5l.94-2.06 2.06-.94-2.06-.94L8.5 2.5l-.94 2.06-2.06.94zm10 10l.94 2.06.94-2.06 2.06-.94-2.06-.94-.94-2.06-.94 2.06-2.06.94z\"/><path d=\"M17.41 7.96l-1.37-1.37c-.4-.4-.92-.59-1.43-.59-.52 0-1.04.2-1.43.59L10.3 9.45l-7.72 7.72c-.78.78-.78 2.05 0 2.83L4 21.41c.39.39.9.59 1.41.59.51 0 1.02-.2 1.41-.59l7.78-7.78 2.81-2.81c.8-.78.8-2.07 0-2.86zM5.41 20L4 18.59l7.72-7.72 1.47 1.35L5.41 20z\"/>\n",
              "  </svg>\n",
              "      </button>\n",
              "      \n",
              "  <style>\n",
              "    .colab-df-container {\n",
              "      display:flex;\n",
              "      flex-wrap:wrap;\n",
              "      gap: 12px;\n",
              "    }\n",
              "\n",
              "    .colab-df-convert {\n",
              "      background-color: #E8F0FE;\n",
              "      border: none;\n",
              "      border-radius: 50%;\n",
              "      cursor: pointer;\n",
              "      display: none;\n",
              "      fill: #1967D2;\n",
              "      height: 32px;\n",
              "      padding: 0 0 0 0;\n",
              "      width: 32px;\n",
              "    }\n",
              "\n",
              "    .colab-df-convert:hover {\n",
              "      background-color: #E2EBFA;\n",
              "      box-shadow: 0px 1px 2px rgba(60, 64, 67, 0.3), 0px 1px 3px 1px rgba(60, 64, 67, 0.15);\n",
              "      fill: #174EA6;\n",
              "    }\n",
              "\n",
              "    [theme=dark] .colab-df-convert {\n",
              "      background-color: #3B4455;\n",
              "      fill: #D2E3FC;\n",
              "    }\n",
              "\n",
              "    [theme=dark] .colab-df-convert:hover {\n",
              "      background-color: #434B5C;\n",
              "      box-shadow: 0px 1px 3px 1px rgba(0, 0, 0, 0.15);\n",
              "      filter: drop-shadow(0px 1px 2px rgba(0, 0, 0, 0.3));\n",
              "      fill: #FFFFFF;\n",
              "    }\n",
              "  </style>\n",
              "\n",
              "      <script>\n",
              "        const buttonEl =\n",
              "          document.querySelector('#df-54802612-36d4-4680-9c0a-d12bc60c9d71 button.colab-df-convert');\n",
              "        buttonEl.style.display =\n",
              "          google.colab.kernel.accessAllowed ? 'block' : 'none';\n",
              "\n",
              "        async function convertToInteractive(key) {\n",
              "          const element = document.querySelector('#df-54802612-36d4-4680-9c0a-d12bc60c9d71');\n",
              "          const dataTable =\n",
              "            await google.colab.kernel.invokeFunction('convertToInteractive',\n",
              "                                                     [key], {});\n",
              "          if (!dataTable) return;\n",
              "\n",
              "          const docLinkHtml = 'Like what you see? Visit the ' +\n",
              "            '<a target=\"_blank\" href=https://colab.research.google.com/notebooks/data_table.ipynb>data table notebook</a>'\n",
              "            + ' to learn more about interactive tables.';\n",
              "          element.innerHTML = '';\n",
              "          dataTable['output_type'] = 'display_data';\n",
              "          await google.colab.output.renderOutput(dataTable, element);\n",
              "          const docLink = document.createElement('div');\n",
              "          docLink.innerHTML = docLinkHtml;\n",
              "          element.appendChild(docLink);\n",
              "        }\n",
              "      </script>\n",
              "    </div>\n",
              "  </div>\n",
              "  "
            ]
          },
          "metadata": {},
          "execution_count": 18
        }
      ]
    },
    {
      "cell_type": "markdown",
      "source": [
        "# Word Embedding"
      ],
      "metadata": {
        "id": "3wAmLyhFv6nb"
      }
    },
    {
      "cell_type": "code",
      "source": [
        "# Extracting text data - reviews\n",
        "documents = data['pre_processed']\n",
        "documents"
      ],
      "metadata": {
        "colab": {
          "base_uri": "https://localhost:8080/"
        },
        "id": "hyGv6kiVyPyH",
        "outputId": "48753d7e-7043-43aa-cafe-621b3bfe4820"
      },
      "execution_count": null,
      "outputs": [
        {
          "output_type": "execute_result",
          "data": {
            "text/plain": [
              "0        beautiful even tho clearly high end super grea...\n",
              "1        great product get set mother allergic bijou pr...\n",
              "2        exactly picture daughter friend love come pack...\n",
              "3        love fit great super comfortable neat idea fis...\n",
              "4        get mother day gift mom love really nice quali...\n",
              "                               ...                        \n",
              "99946      delivery quick bead loose u careful opening put\n",
              "99947    tiny cute th inch wide back sit securely notch...\n",
              "99948    beautiful stun cheapo piece afraid link stone ...\n",
              "99949    inlay almost holographic comfortable super wid...\n",
              "99950                  even waste money back fit bent junk\n",
              "Name: pre_processed, Length: 91442, dtype: object"
            ]
          },
          "metadata": {},
          "execution_count": 19
        }
      ]
    },
    {
      "cell_type": "code",
      "source": [
        "X_train,X_test,Y_train, Y_test = train_test_split(data['pre_processed'], data['label'], test_size=0.25, random_state=30)\n",
        "print(\"Train: \",X_train.shape,Y_train.shape,\"Test: \",(X_test.shape,Y_test.shape))"
      ],
      "metadata": {
        "colab": {
          "base_uri": "https://localhost:8080/"
        },
        "id": "9E6Rem6SC7TO",
        "outputId": "d1ed0fc8-2b84-484c-e784-a8af7b167e28"
      },
      "execution_count": null,
      "outputs": [
        {
          "output_type": "stream",
          "name": "stdout",
          "text": [
            "Train:  (68581,) (68581,) Test:  ((22861,), (22861,))\n"
          ]
        }
      ]
    },
    {
      "cell_type": "code",
      "source": [
        "# Word Embedding\n",
        "from sklearn.feature_extraction.text import TfidfVectorizer\n",
        "\n",
        "vectorizer = TfidfVectorizer(stop_words = 'english')\n",
        "\n",
        "tfidf_vectorizer = TfidfVectorizer(use_idf=True)\n",
        "X_train_vectors_tfidf = tfidf_vectorizer.fit_transform(X_train)\n",
        "X_test_vectors_tfidf = tfidf_vectorizer.transform(X_test)"
      ],
      "metadata": {
        "id": "In1LVNgEyQsB"
      },
      "execution_count": null,
      "outputs": []
    },
    {
      "cell_type": "markdown",
      "source": [
        "# Classification"
      ],
      "metadata": {
        "id": "UcjQbpVLCKyD"
      }
    },
    {
      "cell_type": "code",
      "source": [
        "#FITTING THE CLASSIFICATION MODEL using Logistic Regression(tf-idf)\n",
        "lr_tfidf=LogisticRegression(solver = 'liblinear', C=10, penalty = 'l2')\n",
        "\n",
        "lr_tfidf.fit(X_train_vectors_tfidf, Y_train)\n",
        "\n",
        "#Predict y value for test dataset\n",
        "y_predict = lr_tfidf.predict(X_test_vectors_tfidf)\n",
        "\n",
        "y_prob = lr_tfidf.predict_proba(X_test_vectors_tfidf)[:,1]\n",
        "\n",
        "print(classification_report(Y_test,y_predict))\n",
        "\n",
        "print('Confusion Matrix:',confusion_matrix(Y_test, y_predict))\n",
        "\n",
        "fpr, tpr, thresholds = roc_curve(Y_test, y_prob)\n",
        "roc_auc = auc(fpr, tpr)\n",
        "print('AUC:', roc_auc)"
      ],
      "metadata": {
        "colab": {
          "base_uri": "https://localhost:8080/"
        },
        "id": "RKCJwRmwCNUN",
        "outputId": "33dc96af-1607-4a59-cfcb-5e002555111e"
      },
      "execution_count": null,
      "outputs": [
        {
          "output_type": "stream",
          "name": "stdout",
          "text": [
            "              precision    recall  f1-score   support\n",
            "\n",
            "           0       0.86      0.79      0.82      3737\n",
            "           1       0.96      0.97      0.97     19124\n",
            "\n",
            "    accuracy                           0.94     22861\n",
            "   macro avg       0.91      0.88      0.89     22861\n",
            "weighted avg       0.94      0.94      0.94     22861\n",
            "\n",
            "Confusion Matrix: [[ 2936   801]\n",
            " [  494 18630]]\n",
            "AUC: 0.9708335126717194\n"
          ]
        }
      ]
    },
    {
      "cell_type": "code",
      "source": [
        "#FITTING THE CLASSIFICATION MODEL using Naive Bayes(tf-idf)\n",
        "\n",
        "nb_tfidf = MultinomialNB()\n",
        "\n",
        "nb_tfidf.fit(X_train_vectors_tfidf, Y_train)\n",
        "\n",
        "#Predict y value for test dataset\n",
        "\n",
        "y_predict = nb_tfidf.predict(X_test_vectors_tfidf)\n",
        "\n",
        "y_prob = nb_tfidf.predict_proba(X_test_vectors_tfidf)[:,1]\n",
        "\n",
        "print(classification_report(Y_test,y_predict))\n",
        "\n",
        "print('Confusion Matrix:',confusion_matrix(Y_test, y_predict))\n",
        "\n",
        "fpr, tpr, thresholds = roc_curve(Y_test, y_prob)\n",
        "roc_auc = auc(fpr, tpr)\n",
        "print('AUC:', roc_auc)"
      ],
      "metadata": {
        "colab": {
          "base_uri": "https://localhost:8080/"
        },
        "id": "h6fT6-pnCV25",
        "outputId": "c2ba54b5-67aa-430d-bdd0-57c708998fc3"
      },
      "execution_count": null,
      "outputs": [
        {
          "output_type": "stream",
          "name": "stdout",
          "text": [
            "              precision    recall  f1-score   support\n",
            "\n",
            "           0       0.97      0.36      0.52      3737\n",
            "           1       0.89      1.00      0.94     19124\n",
            "\n",
            "    accuracy                           0.89     22861\n",
            "   macro avg       0.93      0.68      0.73     22861\n",
            "weighted avg       0.90      0.89      0.87     22861\n",
            "\n",
            "Confusion Matrix: [[ 1338  2399]\n",
            " [   45 19079]]\n",
            "AUC: 0.96247618530826\n"
          ]
        }
      ]
    },
    {
      "cell_type": "code",
      "source": [
        "# Predicting on test data\n",
        "\n",
        "#converting words to numerical data using tf-idf\n",
        "X_vector=tfidf_vectorizer.transform(X_test)\n",
        "\n",
        "#use the best model to predict 'target' value for the new dataset\n",
        "y_predict = lr_tfidf.predict(X_vector)\n",
        "\n",
        "y_prob = lr_tfidf.predict_proba(X_vector)[:,1]\n",
        "\n",
        "classification_df = data[['pre_processed','label']].reset_index(drop=True)\n",
        "print(classification_df.head(10))"
      ],
      "metadata": {
        "colab": {
          "base_uri": "https://localhost:8080/"
        },
        "id": "Jaw9wyVoCY2x",
        "outputId": "4e07a66c-273a-450d-fc0b-8eb9b24f84cf"
      },
      "execution_count": null,
      "outputs": [
        {
          "output_type": "stream",
          "name": "stdout",
          "text": [
            "                                       pre_processed  label\n",
            "0  beautiful even tho clearly high end super grea...      1\n",
            "1  great product get set mother allergic bijou pr...      1\n",
            "2  exactly picture daughter friend love come pack...      1\n",
            "3  love fit great super comfortable neat idea fis...      1\n",
            "4  get mother day gift mom love really nice quali...      1\n",
            "5                              love make get another      1\n",
            "6                                   true size unique      1\n",
            "7           necklace beautiful great accent wardrobe      1\n",
            "8                                            perfect      1\n",
            "9                                               love      1\n"
          ]
        }
      ]
    },
    {
      "cell_type": "markdown",
      "source": [
        "# KMeans"
      ],
      "metadata": {
        "id": "l60z3sr9x79J"
      }
    },
    {
      "cell_type": "code",
      "source": [
        "# Vectorization for K-Means\n",
        "vectorizer = TfidfVectorizer(stop_words = 'english')\n",
        "x = vectorizer.fit_transform(documents)"
      ],
      "metadata": {
        "id": "wt_MDoqJG9r3"
      },
      "execution_count": null,
      "outputs": []
    },
    {
      "cell_type": "code",
      "source": [
        "# Clustering model\n",
        "true_k = 2\n",
        "model = KMeans(n_clusters = true_k, init = 'k-means++', max_iter = 100, n_init=1)\n",
        "model.fit(x)"
      ],
      "metadata": {
        "colab": {
          "base_uri": "https://localhost:8080/",
          "height": 74
        },
        "id": "nCF03aHVyb2R",
        "outputId": "fdb3ad1f-823e-4015-e5dc-650e5b91eb98"
      },
      "execution_count": null,
      "outputs": [
        {
          "output_type": "execute_result",
          "data": {
            "text/plain": [
              "KMeans(max_iter=100, n_clusters=2, n_init=1)"
            ],
            "text/html": [
              "<style>#sk-container-id-1 {color: black;background-color: white;}#sk-container-id-1 pre{padding: 0;}#sk-container-id-1 div.sk-toggleable {background-color: white;}#sk-container-id-1 label.sk-toggleable__label {cursor: pointer;display: block;width: 100%;margin-bottom: 0;padding: 0.3em;box-sizing: border-box;text-align: center;}#sk-container-id-1 label.sk-toggleable__label-arrow:before {content: \"▸\";float: left;margin-right: 0.25em;color: #696969;}#sk-container-id-1 label.sk-toggleable__label-arrow:hover:before {color: black;}#sk-container-id-1 div.sk-estimator:hover label.sk-toggleable__label-arrow:before {color: black;}#sk-container-id-1 div.sk-toggleable__content {max-height: 0;max-width: 0;overflow: hidden;text-align: left;background-color: #f0f8ff;}#sk-container-id-1 div.sk-toggleable__content pre {margin: 0.2em;color: black;border-radius: 0.25em;background-color: #f0f8ff;}#sk-container-id-1 input.sk-toggleable__control:checked~div.sk-toggleable__content {max-height: 200px;max-width: 100%;overflow: auto;}#sk-container-id-1 input.sk-toggleable__control:checked~label.sk-toggleable__label-arrow:before {content: \"▾\";}#sk-container-id-1 div.sk-estimator input.sk-toggleable__control:checked~label.sk-toggleable__label {background-color: #d4ebff;}#sk-container-id-1 div.sk-label input.sk-toggleable__control:checked~label.sk-toggleable__label {background-color: #d4ebff;}#sk-container-id-1 input.sk-hidden--visually {border: 0;clip: rect(1px 1px 1px 1px);clip: rect(1px, 1px, 1px, 1px);height: 1px;margin: -1px;overflow: hidden;padding: 0;position: absolute;width: 1px;}#sk-container-id-1 div.sk-estimator {font-family: monospace;background-color: #f0f8ff;border: 1px dotted black;border-radius: 0.25em;box-sizing: border-box;margin-bottom: 0.5em;}#sk-container-id-1 div.sk-estimator:hover {background-color: #d4ebff;}#sk-container-id-1 div.sk-parallel-item::after {content: \"\";width: 100%;border-bottom: 1px solid gray;flex-grow: 1;}#sk-container-id-1 div.sk-label:hover label.sk-toggleable__label {background-color: #d4ebff;}#sk-container-id-1 div.sk-serial::before {content: \"\";position: absolute;border-left: 1px solid gray;box-sizing: border-box;top: 0;bottom: 0;left: 50%;z-index: 0;}#sk-container-id-1 div.sk-serial {display: flex;flex-direction: column;align-items: center;background-color: white;padding-right: 0.2em;padding-left: 0.2em;position: relative;}#sk-container-id-1 div.sk-item {position: relative;z-index: 1;}#sk-container-id-1 div.sk-parallel {display: flex;align-items: stretch;justify-content: center;background-color: white;position: relative;}#sk-container-id-1 div.sk-item::before, #sk-container-id-1 div.sk-parallel-item::before {content: \"\";position: absolute;border-left: 1px solid gray;box-sizing: border-box;top: 0;bottom: 0;left: 50%;z-index: -1;}#sk-container-id-1 div.sk-parallel-item {display: flex;flex-direction: column;z-index: 1;position: relative;background-color: white;}#sk-container-id-1 div.sk-parallel-item:first-child::after {align-self: flex-end;width: 50%;}#sk-container-id-1 div.sk-parallel-item:last-child::after {align-self: flex-start;width: 50%;}#sk-container-id-1 div.sk-parallel-item:only-child::after {width: 0;}#sk-container-id-1 div.sk-dashed-wrapped {border: 1px dashed gray;margin: 0 0.4em 0.5em 0.4em;box-sizing: border-box;padding-bottom: 0.4em;background-color: white;}#sk-container-id-1 div.sk-label label {font-family: monospace;font-weight: bold;display: inline-block;line-height: 1.2em;}#sk-container-id-1 div.sk-label-container {text-align: center;}#sk-container-id-1 div.sk-container {/* jupyter's `normalize.less` sets `[hidden] { display: none; }` but bootstrap.min.css set `[hidden] { display: none !important; }` so we also need the `!important` here to be able to override the default hidden behavior on the sphinx rendered scikit-learn.org. See: https://github.com/scikit-learn/scikit-learn/issues/21755 */display: inline-block !important;position: relative;}#sk-container-id-1 div.sk-text-repr-fallback {display: none;}</style><div id=\"sk-container-id-1\" class=\"sk-top-container\"><div class=\"sk-text-repr-fallback\"><pre>KMeans(max_iter=100, n_clusters=2, n_init=1)</pre><b>In a Jupyter environment, please rerun this cell to show the HTML representation or trust the notebook. <br />On GitHub, the HTML representation is unable to render, please try loading this page with nbviewer.org.</b></div><div class=\"sk-container\" hidden><div class=\"sk-item\"><div class=\"sk-estimator sk-toggleable\"><input class=\"sk-toggleable__control sk-hidden--visually\" id=\"sk-estimator-id-1\" type=\"checkbox\" checked><label for=\"sk-estimator-id-1\" class=\"sk-toggleable__label sk-toggleable__label-arrow\">KMeans</label><div class=\"sk-toggleable__content\"><pre>KMeans(max_iter=100, n_clusters=2, n_init=1)</pre></div></div></div></div></div>"
            ]
          },
          "metadata": {},
          "execution_count": 27
        }
      ]
    },
    {
      "cell_type": "code",
      "source": [
        "# Printing top 5 items from each cluster\n",
        "print('Top terms per cluster:')\n",
        "order_centroids = model.cluster_centers_.argsort()[:,::-1]\n",
        "terms = vectorizer.get_feature_names_out()\n",
        "for i in range(true_k):\n",
        "  print(\"Cluster %d: \" % i),\n",
        "  for ind in order_centroids[i,:5]: # To get top 5 items per cluster.\n",
        "    print('% s' % terms[ind]),\n",
        "\n",
        "print('\\n')\n",
        "print('Prediction')"
      ],
      "metadata": {
        "colab": {
          "base_uri": "https://localhost:8080/"
        },
        "id": "s-CbBme2ycbZ",
        "outputId": "61107d02-709f-48e6-cc0a-95b83042b277"
      },
      "execution_count": null,
      "outputs": [
        {
          "output_type": "stream",
          "name": "stdout",
          "text": [
            "Top terms per cluster:\n",
            "Cluster 0: \n",
            "nice\n",
            "beautiful\n",
            "love\n",
            "great\n",
            "look\n",
            "Cluster 1: \n",
            "love\n",
            "wife\n",
            "beautiful\n",
            "ring\n",
            "daughter\n",
            "\n",
            "\n",
            "Prediction\n"
          ]
        }
      ]
    },
    {
      "cell_type": "code",
      "source": [
        "def tag_cluster(doc):\n",
        "  vec = vectorizer.transform([doc])\n",
        "  return model.predict(vec)[0]"
      ],
      "metadata": {
        "id": "TYBnRIO8ygie"
      },
      "execution_count": null,
      "outputs": []
    },
    {
      "cell_type": "code",
      "source": [
        "clusters = [tag_cluster(doc) for doc in documents]"
      ],
      "metadata": {
        "id": "btkMCU6cyiBd"
      },
      "execution_count": null,
      "outputs": []
    },
    {
      "cell_type": "code",
      "source": [
        "# Assigning clusters to each item\n",
        "data['clusters'] = [tag_cluster(doc) for doc in data.pre_processed]\n",
        "data.head()"
      ],
      "metadata": {
        "colab": {
          "base_uri": "https://localhost:8080/",
          "height": 206
        },
        "id": "sN3W07cIVWSE",
        "outputId": "36d1754b-b020-4429-fe1a-7666f7a3d009"
      },
      "execution_count": null,
      "outputs": [
        {
          "output_type": "execute_result",
          "data": {
            "text/plain": [
              "                                         review_body  star_rating  label  \\\n",
              "0  so beautiful even tho clearly not high end ......            5      1   \n",
              "1  Great product.. I got this set for my mother, ...            5      1   \n",
              "2  Exactly as pictured and my daughter's friend l...            5      1   \n",
              "3  Love it. Fits great. Super comfortable and nea...            5      1   \n",
              "4  Got this as a Mother's Day gift for my Mom and...            5      1   \n",
              "\n",
              "                                       pre_processed  clusters  \n",
              "0  beautiful even tho clearly high end super grea...         0  \n",
              "1  great product get set mother allergic bijou pr...         0  \n",
              "2  exactly picture daughter friend love come pack...         0  \n",
              "3  love fit great super comfortable neat idea fis...         0  \n",
              "4  get mother day gift mom love really nice quali...         0  "
            ],
            "text/html": [
              "\n",
              "  <div id=\"df-fbcf98f1-d389-4471-b6cc-d9f6f0fd6bfb\">\n",
              "    <div class=\"colab-df-container\">\n",
              "      <div>\n",
              "<style scoped>\n",
              "    .dataframe tbody tr th:only-of-type {\n",
              "        vertical-align: middle;\n",
              "    }\n",
              "\n",
              "    .dataframe tbody tr th {\n",
              "        vertical-align: top;\n",
              "    }\n",
              "\n",
              "    .dataframe thead th {\n",
              "        text-align: right;\n",
              "    }\n",
              "</style>\n",
              "<table border=\"1\" class=\"dataframe\">\n",
              "  <thead>\n",
              "    <tr style=\"text-align: right;\">\n",
              "      <th></th>\n",
              "      <th>review_body</th>\n",
              "      <th>star_rating</th>\n",
              "      <th>label</th>\n",
              "      <th>pre_processed</th>\n",
              "      <th>clusters</th>\n",
              "    </tr>\n",
              "  </thead>\n",
              "  <tbody>\n",
              "    <tr>\n",
              "      <th>0</th>\n",
              "      <td>so beautiful even tho clearly not high end ......</td>\n",
              "      <td>5</td>\n",
              "      <td>1</td>\n",
              "      <td>beautiful even tho clearly high end super grea...</td>\n",
              "      <td>0</td>\n",
              "    </tr>\n",
              "    <tr>\n",
              "      <th>1</th>\n",
              "      <td>Great product.. I got this set for my mother, ...</td>\n",
              "      <td>5</td>\n",
              "      <td>1</td>\n",
              "      <td>great product get set mother allergic bijou pr...</td>\n",
              "      <td>0</td>\n",
              "    </tr>\n",
              "    <tr>\n",
              "      <th>2</th>\n",
              "      <td>Exactly as pictured and my daughter's friend l...</td>\n",
              "      <td>5</td>\n",
              "      <td>1</td>\n",
              "      <td>exactly picture daughter friend love come pack...</td>\n",
              "      <td>0</td>\n",
              "    </tr>\n",
              "    <tr>\n",
              "      <th>3</th>\n",
              "      <td>Love it. Fits great. Super comfortable and nea...</td>\n",
              "      <td>5</td>\n",
              "      <td>1</td>\n",
              "      <td>love fit great super comfortable neat idea fis...</td>\n",
              "      <td>0</td>\n",
              "    </tr>\n",
              "    <tr>\n",
              "      <th>4</th>\n",
              "      <td>Got this as a Mother's Day gift for my Mom and...</td>\n",
              "      <td>5</td>\n",
              "      <td>1</td>\n",
              "      <td>get mother day gift mom love really nice quali...</td>\n",
              "      <td>0</td>\n",
              "    </tr>\n",
              "  </tbody>\n",
              "</table>\n",
              "</div>\n",
              "      <button class=\"colab-df-convert\" onclick=\"convertToInteractive('df-fbcf98f1-d389-4471-b6cc-d9f6f0fd6bfb')\"\n",
              "              title=\"Convert this dataframe to an interactive table.\"\n",
              "              style=\"display:none;\">\n",
              "        \n",
              "  <svg xmlns=\"http://www.w3.org/2000/svg\" height=\"24px\"viewBox=\"0 0 24 24\"\n",
              "       width=\"24px\">\n",
              "    <path d=\"M0 0h24v24H0V0z\" fill=\"none\"/>\n",
              "    <path d=\"M18.56 5.44l.94 2.06.94-2.06 2.06-.94-2.06-.94-.94-2.06-.94 2.06-2.06.94zm-11 1L8.5 8.5l.94-2.06 2.06-.94-2.06-.94L8.5 2.5l-.94 2.06-2.06.94zm10 10l.94 2.06.94-2.06 2.06-.94-2.06-.94-.94-2.06-.94 2.06-2.06.94z\"/><path d=\"M17.41 7.96l-1.37-1.37c-.4-.4-.92-.59-1.43-.59-.52 0-1.04.2-1.43.59L10.3 9.45l-7.72 7.72c-.78.78-.78 2.05 0 2.83L4 21.41c.39.39.9.59 1.41.59.51 0 1.02-.2 1.41-.59l7.78-7.78 2.81-2.81c.8-.78.8-2.07 0-2.86zM5.41 20L4 18.59l7.72-7.72 1.47 1.35L5.41 20z\"/>\n",
              "  </svg>\n",
              "      </button>\n",
              "      \n",
              "  <style>\n",
              "    .colab-df-container {\n",
              "      display:flex;\n",
              "      flex-wrap:wrap;\n",
              "      gap: 12px;\n",
              "    }\n",
              "\n",
              "    .colab-df-convert {\n",
              "      background-color: #E8F0FE;\n",
              "      border: none;\n",
              "      border-radius: 50%;\n",
              "      cursor: pointer;\n",
              "      display: none;\n",
              "      fill: #1967D2;\n",
              "      height: 32px;\n",
              "      padding: 0 0 0 0;\n",
              "      width: 32px;\n",
              "    }\n",
              "\n",
              "    .colab-df-convert:hover {\n",
              "      background-color: #E2EBFA;\n",
              "      box-shadow: 0px 1px 2px rgba(60, 64, 67, 0.3), 0px 1px 3px 1px rgba(60, 64, 67, 0.15);\n",
              "      fill: #174EA6;\n",
              "    }\n",
              "\n",
              "    [theme=dark] .colab-df-convert {\n",
              "      background-color: #3B4455;\n",
              "      fill: #D2E3FC;\n",
              "    }\n",
              "\n",
              "    [theme=dark] .colab-df-convert:hover {\n",
              "      background-color: #434B5C;\n",
              "      box-shadow: 0px 1px 3px 1px rgba(0, 0, 0, 0.15);\n",
              "      filter: drop-shadow(0px 1px 2px rgba(0, 0, 0, 0.3));\n",
              "      fill: #FFFFFF;\n",
              "    }\n",
              "  </style>\n",
              "\n",
              "      <script>\n",
              "        const buttonEl =\n",
              "          document.querySelector('#df-fbcf98f1-d389-4471-b6cc-d9f6f0fd6bfb button.colab-df-convert');\n",
              "        buttonEl.style.display =\n",
              "          google.colab.kernel.accessAllowed ? 'block' : 'none';\n",
              "\n",
              "        async function convertToInteractive(key) {\n",
              "          const element = document.querySelector('#df-fbcf98f1-d389-4471-b6cc-d9f6f0fd6bfb');\n",
              "          const dataTable =\n",
              "            await google.colab.kernel.invokeFunction('convertToInteractive',\n",
              "                                                     [key], {});\n",
              "          if (!dataTable) return;\n",
              "\n",
              "          const docLinkHtml = 'Like what you see? Visit the ' +\n",
              "            '<a target=\"_blank\" href=https://colab.research.google.com/notebooks/data_table.ipynb>data table notebook</a>'\n",
              "            + ' to learn more about interactive tables.';\n",
              "          element.innerHTML = '';\n",
              "          dataTable['output_type'] = 'display_data';\n",
              "          await google.colab.output.renderOutput(dataTable, element);\n",
              "          const docLink = document.createElement('div');\n",
              "          docLink.innerHTML = docLinkHtml;\n",
              "          element.appendChild(docLink);\n",
              "        }\n",
              "      </script>\n",
              "    </div>\n",
              "  </div>\n",
              "  "
            ]
          },
          "metadata": {},
          "execution_count": 31
        }
      ]
    },
    {
      "cell_type": "code",
      "source": [
        "data['clusters'].value_counts()"
      ],
      "metadata": {
        "colab": {
          "base_uri": "https://localhost:8080/"
        },
        "id": "lNk3zn1ZWBdv",
        "outputId": "0a680b2e-5264-4fe8-8000-f4ab792b68a7"
      },
      "execution_count": null,
      "outputs": [
        {
          "output_type": "execute_result",
          "data": {
            "text/plain": [
              "0    86511\n",
              "1     4931\n",
              "Name: clusters, dtype: int64"
            ]
          },
          "metadata": {},
          "execution_count": 32
        }
      ]
    },
    {
      "cell_type": "markdown",
      "source": [
        "#### Conclusions from clusters\n",
        "\n",
        "*   There are more items with cluster number 0.\n",
        "*   There are less items with cluster number 1.\n",
        "\n"
      ],
      "metadata": {
        "id": "YANE6Wv8XPkv"
      }
    },
    {
      "cell_type": "code",
      "source": [
        "wcss = []\n",
        "\n",
        "for i in range(1,5):\n",
        "  clustering = KMeans(n_clusters=i,init='k-means++',random_state=42)\n",
        "  clustering.fit(x)\n",
        "  wcss.append(clustering.inertia_)\n",
        "\n",
        "ks = [1,2,3,4]\n",
        "sns.lineplot(x = ks, y = wcss);\n",
        "# Line breaks at 2, so the optimal value of k is 2."
      ],
      "metadata": {
        "colab": {
          "base_uri": "https://localhost:8080/",
          "height": 320
        },
        "id": "Qtl3-U_xmLIX",
        "outputId": "dd65d7fa-0fd0-46a4-d6e5-163ac6b36ed3"
      },
      "execution_count": null,
      "outputs": [
        {
          "output_type": "stream",
          "name": "stderr",
          "text": [
            "/usr/local/lib/python3.9/dist-packages/sklearn/cluster/_kmeans.py:870: FutureWarning: The default value of `n_init` will change from 10 to 'auto' in 1.4. Set the value of `n_init` explicitly to suppress the warning\n",
            "  warnings.warn(\n"
          ]
        },
        {
          "output_type": "display_data",
          "data": {
            "text/plain": [
              "<Figure size 432x288 with 1 Axes>"
            ],
            "image/png": "[encoded data removed]"
          },
          "metadata": {
            "needs_background": "light"
          }
        }
      ]
    },
    {
      "cell_type": "code",
      "source": [
        "data"
      ],
      "metadata": {
        "colab": {
          "base_uri": "https://localhost:8080/",
          "height": 423
        },
        "id": "Oj-gwbpeIgil",
        "outputId": "86774aa8-9de7-46e2-8c92-29b43076449f"
      },
      "execution_count": null,
      "outputs": [
        {
          "output_type": "execute_result",
          "data": {
            "text/plain": [
              "                                             review_body  star_rating  label  \\\n",
              "0      so beautiful even tho clearly not high end ......            5      1   \n",
              "1      Great product.. I got this set for my mother, ...            5      1   \n",
              "2      Exactly as pictured and my daughter's friend l...            5      1   \n",
              "3      Love it. Fits great. Super comfortable and nea...            5      1   \n",
              "4      Got this as a Mother's Day gift for my Mom and...            5      1   \n",
              "...                                                  ...          ...    ...   \n",
              "99946  Delivery was quick. ...the beads are loose so ...            4      1   \n",
              "99947  Tiny but cute! About 1/8th of an inch wide. Th...            5      1   \n",
              "99948  So beautiful and stunning.  There are cheapo p...            5      1   \n",
              "99949  The inlay is almost holographic. Very comforta...            5      1   \n",
              "99950  Don't even waste your money. The backs don't f...            1      0   \n",
              "\n",
              "                                           pre_processed  clusters  \n",
              "0      beautiful even tho clearly high end super grea...         0  \n",
              "1      great product get set mother allergic bijou pr...         0  \n",
              "2      exactly picture daughter friend love come pack...         0  \n",
              "3      love fit great super comfortable neat idea fis...         0  \n",
              "4      get mother day gift mom love really nice quali...         0  \n",
              "...                                                  ...       ...  \n",
              "99946    delivery quick bead loose u careful opening put         0  \n",
              "99947  tiny cute th inch wide back sit securely notch...         0  \n",
              "99948  beautiful stun cheapo piece afraid link stone ...         0  \n",
              "99949  inlay almost holographic comfortable super wid...         0  \n",
              "99950                even waste money back fit bent junk         0  \n",
              "\n",
              "[91442 rows x 5 columns]"
            ],
            "text/html": [
              "\n",
              "  <div id=\"df-32bee95e-58a5-4988-a816-2eb2310c9d0a\">\n",
              "    <div class=\"colab-df-container\">\n",
              "      <div>\n",
              "<style scoped>\n",
              "    .dataframe tbody tr th:only-of-type {\n",
              "        vertical-align: middle;\n",
              "    }\n",
              "\n",
              "    .dataframe tbody tr th {\n",
              "        vertical-align: top;\n",
              "    }\n",
              "\n",
              "    .dataframe thead th {\n",
              "        text-align: right;\n",
              "    }\n",
              "</style>\n",
              "<table border=\"1\" class=\"dataframe\">\n",
              "  <thead>\n",
              "    <tr style=\"text-align: right;\">\n",
              "      <th></th>\n",
              "      <th>review_body</th>\n",
              "      <th>star_rating</th>\n",
              "      <th>label</th>\n",
              "      <th>pre_processed</th>\n",
              "      <th>clusters</th>\n",
              "    </tr>\n",
              "  </thead>\n",
              "  <tbody>\n",
              "    <tr>\n",
              "      <th>0</th>\n",
              "      <td>so beautiful even tho clearly not high end ......</td>\n",
              "      <td>5</td>\n",
              "      <td>1</td>\n",
              "      <td>beautiful even tho clearly high end super grea...</td>\n",
              "      <td>0</td>\n",
              "    </tr>\n",
              "    <tr>\n",
              "      <th>1</th>\n",
              "      <td>Great product.. I got this set for my mother, ...</td>\n",
              "      <td>5</td>\n",
              "      <td>1</td>\n",
              "      <td>great product get set mother allergic bijou pr...</td>\n",
              "      <td>0</td>\n",
              "    </tr>\n",
              "    <tr>\n",
              "      <th>2</th>\n",
              "      <td>Exactly as pictured and my daughter's friend l...</td>\n",
              "      <td>5</td>\n",
              "      <td>1</td>\n",
              "      <td>exactly picture daughter friend love come pack...</td>\n",
              "      <td>0</td>\n",
              "    </tr>\n",
              "    <tr>\n",
              "      <th>3</th>\n",
              "      <td>Love it. Fits great. Super comfortable and nea...</td>\n",
              "      <td>5</td>\n",
              "      <td>1</td>\n",
              "      <td>love fit great super comfortable neat idea fis...</td>\n",
              "      <td>0</td>\n",
              "    </tr>\n",
              "    <tr>\n",
              "      <th>4</th>\n",
              "      <td>Got this as a Mother's Day gift for my Mom and...</td>\n",
              "      <td>5</td>\n",
              "      <td>1</td>\n",
              "      <td>get mother day gift mom love really nice quali...</td>\n",
              "      <td>0</td>\n",
              "    </tr>\n",
              "    <tr>\n",
              "      <th>...</th>\n",
              "      <td>...</td>\n",
              "      <td>...</td>\n",
              "      <td>...</td>\n",
              "      <td>...</td>\n",
              "      <td>...</td>\n",
              "    </tr>\n",
              "    <tr>\n",
              "      <th>99946</th>\n",
              "      <td>Delivery was quick. ...the beads are loose so ...</td>\n",
              "      <td>4</td>\n",
              "      <td>1</td>\n",
              "      <td>delivery quick bead loose u careful opening put</td>\n",
              "      <td>0</td>\n",
              "    </tr>\n",
              "    <tr>\n",
              "      <th>99947</th>\n",
              "      <td>Tiny but cute! About 1/8th of an inch wide. Th...</td>\n",
              "      <td>5</td>\n",
              "      <td>1</td>\n",
              "      <td>tiny cute th inch wide back sit securely notch...</td>\n",
              "      <td>0</td>\n",
              "    </tr>\n",
              "    <tr>\n",
              "      <th>99948</th>\n",
              "      <td>So beautiful and stunning.  There are cheapo p...</td>\n",
              "      <td>5</td>\n",
              "      <td>1</td>\n",
              "      <td>beautiful stun cheapo piece afraid link stone ...</td>\n",
              "      <td>0</td>\n",
              "    </tr>\n",
              "    <tr>\n",
              "      <th>99949</th>\n",
              "      <td>The inlay is almost holographic. Very comforta...</td>\n",
              "      <td>5</td>\n",
              "      <td>1</td>\n",
              "      <td>inlay almost holographic comfortable super wid...</td>\n",
              "      <td>0</td>\n",
              "    </tr>\n",
              "    <tr>\n",
              "      <th>99950</th>\n",
              "      <td>Don't even waste your money. The backs don't f...</td>\n",
              "      <td>1</td>\n",
              "      <td>0</td>\n",
              "      <td>even waste money back fit bent junk</td>\n",
              "      <td>0</td>\n",
              "    </tr>\n",
              "  </tbody>\n",
              "</table>\n",
              "<p>91442 rows × 5 columns</p>\n",
              "</div>\n",
              "      <button class=\"colab-df-convert\" onclick=\"convertToInteractive('df-32bee95e-58a5-4988-a816-2eb2310c9d0a')\"\n",
              "              title=\"Convert this dataframe to an interactive table.\"\n",
              "              style=\"display:none;\">\n",
              "        \n",
              "  <svg xmlns=\"http://www.w3.org/2000/svg\" height=\"24px\"viewBox=\"0 0 24 24\"\n",
              "       width=\"24px\">\n",
              "    <path d=\"M0 0h24v24H0V0z\" fill=\"none\"/>\n",
              "    <path d=\"M18.56 5.44l.94 2.06.94-2.06 2.06-.94-2.06-.94-.94-2.06-.94 2.06-2.06.94zm-11 1L8.5 8.5l.94-2.06 2.06-.94-2.06-.94L8.5 2.5l-.94 2.06-2.06.94zm10 10l.94 2.06.94-2.06 2.06-.94-2.06-.94-.94-2.06-.94 2.06-2.06.94z\"/><path d=\"M17.41 7.96l-1.37-1.37c-.4-.4-.92-.59-1.43-.59-.52 0-1.04.2-1.43.59L10.3 9.45l-7.72 7.72c-.78.78-.78 2.05 0 2.83L4 21.41c.39.39.9.59 1.41.59.51 0 1.02-.2 1.41-.59l7.78-7.78 2.81-2.81c.8-.78.8-2.07 0-2.86zM5.41 20L4 18.59l7.72-7.72 1.47 1.35L5.41 20z\"/>\n",
              "  </svg>\n",
              "      </button>\n",
              "      \n",
              "  <style>\n",
              "    .colab-df-container {\n",
              "      display:flex;\n",
              "      flex-wrap:wrap;\n",
              "      gap: 12px;\n",
              "    }\n",
              "\n",
              "    .colab-df-convert {\n",
              "      background-color: #E8F0FE;\n",
              "      border: none;\n",
              "      border-radius: 50%;\n",
              "      cursor: pointer;\n",
              "      display: none;\n",
              "      fill: #1967D2;\n",
              "      height: 32px;\n",
              "      padding: 0 0 0 0;\n",
              "      width: 32px;\n",
              "    }\n",
              "\n",
              "    .colab-df-convert:hover {\n",
              "      background-color: #E2EBFA;\n",
              "      box-shadow: 0px 1px 2px rgba(60, 64, 67, 0.3), 0px 1px 3px 1px rgba(60, 64, 67, 0.15);\n",
              "      fill: #174EA6;\n",
              "    }\n",
              "\n",
              "    [theme=dark] .colab-df-convert {\n",
              "      background-color: #3B4455;\n",
              "      fill: #D2E3FC;\n",
              "    }\n",
              "\n",
              "    [theme=dark] .colab-df-convert:hover {\n",
              "      background-color: #434B5C;\n",
              "      box-shadow: 0px 1px 3px 1px rgba(0, 0, 0, 0.15);\n",
              "      filter: drop-shadow(0px 1px 2px rgba(0, 0, 0, 0.3));\n",
              "      fill: #FFFFFF;\n",
              "    }\n",
              "  </style>\n",
              "\n",
              "      <script>\n",
              "        const buttonEl =\n",
              "          document.querySelector('#df-32bee95e-58a5-4988-a816-2eb2310c9d0a button.colab-df-convert');\n",
              "        buttonEl.style.display =\n",
              "          google.colab.kernel.accessAllowed ? 'block' : 'none';\n",
              "\n",
              "        async function convertToInteractive(key) {\n",
              "          const element = document.querySelector('#df-32bee95e-58a5-4988-a816-2eb2310c9d0a');\n",
              "          const dataTable =\n",
              "            await google.colab.kernel.invokeFunction('convertToInteractive',\n",
              "                                                     [key], {});\n",
              "          if (!dataTable) return;\n",
              "\n",
              "          const docLinkHtml = 'Like what you see? Visit the ' +\n",
              "            '<a target=\"_blank\" href=https://colab.research.google.com/notebooks/data_table.ipynb>data table notebook</a>'\n",
              "            + ' to learn more about interactive tables.';\n",
              "          element.innerHTML = '';\n",
              "          dataTable['output_type'] = 'display_data';\n",
              "          await google.colab.output.renderOutput(dataTable, element);\n",
              "          const docLink = document.createElement('div');\n",
              "          docLink.innerHTML = docLinkHtml;\n",
              "          element.appendChild(docLink);\n",
              "        }\n",
              "      </script>\n",
              "    </div>\n",
              "  </div>\n",
              "  "
            ]
          },
          "metadata": {},
          "execution_count": 35
        }
      ]
    },
    {
      "cell_type": "markdown",
      "source": [
        "#LDA Topic Modeling"
      ],
      "metadata": {
        "id": "hC_RuWua3SfB"
      }
    },
    {
      "cell_type": "code",
      "source": [
        "print(len(documents))\n",
        "print(documents[:5])"
      ],
      "metadata": {
        "colab": {
          "base_uri": "https://localhost:8080/"
        },
        "id": "3XRRm3Cc7GFu",
        "outputId": "26c25f80-ee48-4a34-b550-f1649d965e54"
      },
      "execution_count": null,
      "outputs": [
        {
          "output_type": "stream",
          "name": "stdout",
          "text": [
            "91442\n",
            "0    beautiful even tho clearly high end super grea...\n",
            "1    great product get set mother allergic bijou pr...\n",
            "2    exactly picture daughter friend love come pack...\n",
            "3    love fit great super comfortable neat idea fis...\n",
            "4    get mother day gift mom love really nice quali...\n",
            "Name: pre_processed, dtype: object\n"
          ]
        }
      ]
    },
    {
      "cell_type": "code",
      "source": [
        "def lemmatize_stemming(text):\n",
        "    return WordNetLemmatizer().lemmatize(text, pos='v')"
      ],
      "metadata": {
        "id": "b6DaS2Rm7StE"
      },
      "execution_count": null,
      "outputs": []
    },
    {
      "cell_type": "code",
      "source": [
        "def preprocess(text):\n",
        "    result = []\n",
        "    for token in gensim.utils.simple_preprocess(text):\n",
        "        if token not in gensim.parsing.preprocessing.STOPWORDS and len(token) > 3:\n",
        "            result.append(lemmatize_stemming(token))\n",
        "    return result"
      ],
      "metadata": {
        "id": "TIZ1xGHu7Tfz"
      },
      "execution_count": null,
      "outputs": []
    },
    {
      "cell_type": "code",
      "source": [
        "# Preprocessing text for LDA\n",
        "processed_docs = data['review_body'].map(preprocess)\n",
        "processed_docs[:10]"
      ],
      "metadata": {
        "colab": {
          "base_uri": "https://localhost:8080/"
        },
        "id": "c9WUYe0M7eP0",
        "outputId": "22c7c75f-ef1c-4a46-e9d5-af555aeef44f"
      },
      "execution_count": null,
      "outputs": [
        {
          "output_type": "execute_result",
          "data": {
            "text/plain": [
              "0    [beautiful, clearly, high, super, great, price...\n",
              "1    [great, product, mother, allergic, bijoux, pro...\n",
              "2    [exactly, picture, daughter, friend, love, com...\n",
              "3    [love, fit, great, super, comfortable, neat, i...\n",
              "4    [mother, gift, love, nice, quality, interest, ...\n",
              "5                                               [love]\n",
              "6                                 [true, size, unique]\n",
              "7       [necklace, beautiful, great, accent, wardrobe]\n",
              "8                                            [perfect]\n",
              "9                                               [love]\n",
              "Name: review_body, dtype: object"
            ]
          },
          "metadata": {},
          "execution_count": 39
        }
      ]
    },
    {
      "cell_type": "code",
      "source": [
        "#Creating a vocabulary\n",
        "dictionary = gensim.corpora.Dictionary(processed_docs)"
      ],
      "metadata": {
        "id": "uktVafuG7102"
      },
      "execution_count": null,
      "outputs": []
    },
    {
      "cell_type": "code",
      "source": [
        "count = 0\n",
        "for k, v in dictionary.iteritems():\n",
        "    print(k, v)\n",
        "    count += 1\n",
        "    if count > 10:\n",
        "        break\n",
        "\n",
        "#Filter out tokens that appear in less than 15 documents (absolute number) or more than 0.5 documents (fraction of total corpus size, not absolute number)"
      ],
      "metadata": {
        "colab": {
          "base_uri": "https://localhost:8080/"
        },
        "id": "P_L-wn6s73ko",
        "outputId": "940173ff-dea7-41e0-e6b7-d9dc267fc10e"
      },
      "execution_count": null,
      "outputs": [
        {
          "output_type": "stream",
          "name": "stdout",
          "text": [
            "0 appear\n",
            "1 beautiful\n",
            "2 clearly\n",
            "3 costume\n",
            "4 great\n",
            "5 high\n",
            "6 jewelry\n",
            "7 look\n",
            "8 near\n",
            "9 nice\n",
            "10 price\n"
          ]
        }
      ]
    },
    {
      "cell_type": "code",
      "source": [
        "#Keeping only the first 100000 most frequent tokens.\n",
        "dictionary.filter_extremes(no_below=15, no_above=0.5, keep_n=100000)"
      ],
      "metadata": {
        "id": "A3pVZrxP8Adl"
      },
      "execution_count": null,
      "outputs": []
    },
    {
      "cell_type": "code",
      "source": [
        "bow_corpus = [dictionary.doc2bow(doc) for doc in processed_docs]\n",
        "bow_corpus[401]"
      ],
      "metadata": {
        "colab": {
          "base_uri": "https://localhost:8080/"
        },
        "id": "0cZxX3ak8EdF",
        "outputId": "049335c7-a881-4d64-996f-e194d9af36ad"
      },
      "execution_count": null,
      "outputs": [
        {
          "output_type": "execute_result",
          "data": {
            "text/plain": [
              "[(51, 1), (161, 1)]"
            ]
          },
          "metadata": {},
          "execution_count": 43
        }
      ]
    },
    {
      "cell_type": "code",
      "source": [
        "bow_doc_401 = bow_corpus[401]\n",
        "\n",
        "for i in range(len(bow_doc_401)):\n",
        "    print(\"Word {} (\\\"{}\\\") appears {} time.\".format(bow_doc_401[i][0],\n",
        "                                               dictionary[bow_doc_401[i][0]],\n",
        "                                                     bow_doc_401[i][1]))"
      ],
      "metadata": {
        "colab": {
          "base_uri": "https://localhost:8080/"
        },
        "id": "yCbpcXl58P14",
        "outputId": "bd79146a-31ef-4ed3-a047-0bf974ae647f"
      },
      "execution_count": null,
      "outputs": [
        {
          "output_type": "stream",
          "name": "stdout",
          "text": [
            "Word 51 (\"quality\") appears 1 time.\n",
            "Word 161 (\"good\") appears 1 time.\n"
          ]
        }
      ]
    },
    {
      "cell_type": "code",
      "source": [
        "#Create tf-idf model object using models.TfidfModel on ‘bow_corpus’\n",
        "from gensim import corpora, models\n",
        "\n",
        "tfidf = models.TfidfModel(bow_corpus)\n",
        "corpus_tfidf = tfidf[bow_corpus]\n",
        "\n",
        "from pprint import pprint\n",
        "\n",
        "for doc in corpus_tfidf:\n",
        "    pprint(doc)\n",
        "    break"
      ],
      "metadata": {
        "colab": {
          "base_uri": "https://localhost:8080/"
        },
        "id": "itPPlt4jLQjW",
        "outputId": "137f0a72-d6f6-4094-946e-3da888e350e7"
      },
      "execution_count": null,
      "outputs": [
        {
          "output_type": "stream",
          "name": "stdout",
          "text": [
            "[(0, 0.3136815166276146),\n",
            " (1, 0.1245025865307426),\n",
            " (2, 0.4032485258565098),\n",
            " (3, 0.32708298676039904),\n",
            " (4, 0.1238473895768183),\n",
            " (5, 0.2762750791547922),\n",
            " (6, 0.20155019630855675),\n",
            " (7, 0.105661037664547),\n",
            " (8, 0.4143391687224406),\n",
            " (9, 0.12714207904140204),\n",
            " (10, 0.15730708039422062),\n",
            " (11, 0.23904427908689344),\n",
            " (12, 0.25127214883304705),\n",
            " (13, 0.3744196759979113)]\n"
          ]
        }
      ]
    },
    {
      "cell_type": "code",
      "source": [
        "# Running LDA using Bag of Words\n",
        "lda_model = gensim.models.LdaMulticore(bow_corpus, num_topics=10, id2word=dictionary, passes=2, workers=2)"
      ],
      "metadata": {
        "id": "jqaq2qcu8QdS"
      },
      "execution_count": null,
      "outputs": []
    },
    {
      "cell_type": "code",
      "source": [
        "# Explorin words occuring in that topic and its relative weight.\n",
        "for idx, topic in lda_model.print_topics(-1):\n",
        "    print('Topic: {} \\nWords: {}'.format(idx, topic))"
      ],
      "metadata": {
        "colab": {
          "base_uri": "https://localhost:8080/"
        },
        "id": "D3jE7ZtWL0Bm",
        "outputId": "988f03f3-11cf-4ee1-88b9-cd987ded24d7"
      },
      "execution_count": null,
      "outputs": [
        {
          "output_type": "stream",
          "name": "stdout",
          "text": [
            "Topic: 0 \n",
            "Words: 0.051*\"cute\" + 0.032*\"wear\" + 0.029*\"earrings\" + 0.018*\"necklace\" + 0.016*\"little\" + 0.014*\"ears\" + 0.013*\"long\" + 0.012*\"come\" + 0.011*\"super\" + 0.011*\"like\"\n",
            "Topic: 1 \n",
            "Words: 0.053*\"break\" + 0.038*\"wear\" + 0.026*\"cheap\" + 0.024*\"time\" + 0.022*\"money\" + 0.019*\"return\" + 0.017*\"fell\" + 0.017*\"look\" + 0.017*\"disappoint\" + 0.017*\"come\"\n",
            "Topic: 2 \n",
            "Words: 0.041*\"ship\" + 0.037*\"size\" + 0.034*\"fast\" + 0.032*\"order\" + 0.030*\"product\" + 0.029*\"arrive\" + 0.027*\"thank\" + 0.026*\"exactly\" + 0.021*\"come\" + 0.020*\"nice\"\n",
            "Topic: 3 \n",
            "Words: 0.048*\"ring\" + 0.035*\"purchase\" + 0.031*\"happy\" + 0.028*\"look\" + 0.026*\"compliment\" + 0.021*\"buy\" + 0.020*\"love\" + 0.019*\"awesome\" + 0.018*\"wear\" + 0.018*\"beautiful\"\n",
            "Topic: 4 \n",
            "Words: 0.027*\"bracelet\" + 0.024*\"silver\" + 0.020*\"color\" + 0.020*\"gold\" + 0.018*\"like\" + 0.014*\"review\" + 0.014*\"look\" + 0.014*\"jewelry\" + 0.012*\"charm\" + 0.009*\"receive\"\n",
            "Topic: 5 \n",
            "Words: 0.161*\"ring\" + 0.049*\"wear\" + 0.030*\"size\" + 0.025*\"pretty\" + 0.022*\"nice\" + 0.020*\"finger\" + 0.017*\"look\" + 0.016*\"comfortable\" + 0.015*\"stone\" + 0.014*\"band\"\n",
            "Topic: 6 \n",
            "Words: 0.311*\"love\" + 0.060*\"gift\" + 0.045*\"perfect\" + 0.039*\"buy\" + 0.033*\"beautiful\" + 0.031*\"daughter\" + 0.023*\"wife\" + 0.020*\"absolutely\" + 0.017*\"birthday\" + 0.015*\"give\"\n",
            "Topic: 7 \n",
            "Words: 0.069*\"nice\" + 0.048*\"earrings\" + 0.037*\"little\" + 0.027*\"smaller\" + 0.026*\"love\" + 0.025*\"beautiful\" + 0.024*\"gorgeous\" + 0.023*\"small\" + 0.023*\"size\" + 0.023*\"think\"\n",
            "Topic: 8 \n",
            "Words: 0.075*\"look\" + 0.064*\"beautiful\" + 0.057*\"chain\" + 0.051*\"picture\" + 0.047*\"like\" + 0.046*\"necklace\" + 0.024*\"pendant\" + 0.023*\"piece\" + 0.018*\"expect\" + 0.018*\"nice\"\n",
            "Topic: 9 \n",
            "Words: 0.166*\"great\" + 0.091*\"good\" + 0.088*\"quality\" + 0.083*\"price\" + 0.071*\"look\" + 0.040*\"nice\" + 0.020*\"like\" + 0.019*\"product\" + 0.010*\"high\" + 0.010*\"value\"\n"
          ]
        }
      ]
    },
    {
      "cell_type": "code",
      "source": [
        "# Performance evaluation of LDA using Bag of Words\n",
        "for index, score in sorted(lda_model[bow_corpus[4310]], key=lambda tup: -1*tup[1]):\n",
        "    print(\"\\nScore: {}\\t \\nTopic: {}\".format(score, lda_model.print_topic(index, 10)))"
      ],
      "metadata": {
        "colab": {
          "base_uri": "https://localhost:8080/"
        },
        "id": "tP1rGbXLMrM-",
        "outputId": "6d5b0894-5063-4711-d1ac-4086293021d0"
      },
      "execution_count": null,
      "outputs": [
        {
          "output_type": "stream",
          "name": "stdout",
          "text": [
            "\n",
            "Score: 0.6106776595115662\t \n",
            "Topic: 0.069*\"nice\" + 0.048*\"earrings\" + 0.037*\"little\" + 0.027*\"smaller\" + 0.026*\"love\" + 0.025*\"beautiful\" + 0.024*\"gorgeous\" + 0.023*\"small\" + 0.023*\"size\" + 0.023*\"think\"\n",
            "\n",
            "Score: 0.32777491211891174\t \n",
            "Topic: 0.075*\"look\" + 0.064*\"beautiful\" + 0.057*\"chain\" + 0.051*\"picture\" + 0.047*\"like\" + 0.046*\"necklace\" + 0.024*\"pendant\" + 0.023*\"piece\" + 0.018*\"expect\" + 0.018*\"nice\"\n"
          ]
        }
      ]
    },
    {
      "cell_type": "code",
      "source": [
        "# Running LDA using TF-IDF\n",
        "lda_model_tfidf = gensim.models.LdaMulticore(corpus_tfidf, num_topics=10, id2word=dictionary, passes=2, workers=4)"
      ],
      "metadata": {
        "id": "T-uQDDNEMVWC"
      },
      "execution_count": null,
      "outputs": []
    },
    {
      "cell_type": "code",
      "source": [
        "# Explorin words occuring in that topic and its relative weight.\n",
        "for idx, topic in lda_model_tfidf.print_topics(-1):\n",
        "    print('Topic: {} Word: {}'.format(idx, topic))"
      ],
      "metadata": {
        "colab": {
          "base_uri": "https://localhost:8080/"
        },
        "id": "sL_yjXCZMbvN",
        "outputId": "5eaa6930-f058-4145-8c27-03cd9f1e38e2"
      },
      "execution_count": null,
      "outputs": [
        {
          "output_type": "stream",
          "name": "stdout",
          "text": [
            "Topic: 0 Word: 0.023*\"compliment\" + 0.019*\"ring\" + 0.018*\"excellent\" + 0.017*\"wear\" + 0.011*\"love\" + 0.009*\"turn\" + 0.009*\"look\" + 0.009*\"everyday\" + 0.009*\"get\" + 0.008*\"receive\"\n",
            "Topic: 1 Word: 0.274*\"love\" + 0.067*\"cute\" + 0.049*\"wife\" + 0.046*\"gift\" + 0.020*\"buy\" + 0.019*\"ring\" + 0.016*\"give\" + 0.015*\"sister\" + 0.014*\"birthday\" + 0.013*\"mother\"\n",
            "Topic: 2 Word: 0.086*\"good\" + 0.074*\"pretty\" + 0.035*\"quality\" + 0.031*\"cheap\" + 0.028*\"look\" + 0.019*\"want\" + 0.015*\"love\" + 0.015*\"charm\" + 0.015*\"great\" + 0.015*\"gift\"\n",
            "Topic: 3 Word: 0.022*\"bracelet\" + 0.011*\"look\" + 0.010*\"smaller\" + 0.009*\"amaze\" + 0.009*\"wear\" + 0.009*\"chain\" + 0.008*\"like\" + 0.008*\"love\" + 0.008*\"necklace\" + 0.008*\"elegant\"\n",
            "Topic: 4 Word: 0.064*\"great\" + 0.034*\"small\" + 0.029*\"awesome\" + 0.018*\"price\" + 0.018*\"size\" + 0.017*\"look\" + 0.015*\"ring\" + 0.012*\"value\" + 0.011*\"right\" + 0.009*\"love\"\n",
            "Topic: 5 Word: 0.140*\"nice\" + 0.029*\"daughter\" + 0.026*\"love\" + 0.026*\"earrings\" + 0.023*\"look\" + 0.021*\"price\" + 0.017*\"please\" + 0.017*\"ring\" + 0.015*\"heavy\" + 0.015*\"like\"\n",
            "Topic: 6 Word: 0.038*\"break\" + 0.035*\"perfect\" + 0.023*\"thank\" + 0.016*\"wear\" + 0.014*\"fell\" + 0.012*\"cool\" + 0.011*\"time\" + 0.011*\"ring\" + 0.010*\"love\" + 0.009*\"come\"\n",
            "Topic: 7 Word: 0.143*\"beautiful\" + 0.031*\"love\" + 0.029*\"gorgeous\" + 0.029*\"lovely\" + 0.028*\"ring\" + 0.028*\"absolutely\" + 0.020*\"fit\" + 0.019*\"great\" + 0.018*\"product\" + 0.018*\"husband\"\n",
            "Topic: 8 Word: 0.024*\"like\" + 0.011*\"ring\" + 0.010*\"wear\" + 0.009*\"look\" + 0.008*\"star\" + 0.008*\"ears\" + 0.007*\"earrings\" + 0.006*\"love\" + 0.006*\"come\" + 0.006*\"little\"\n",
            "Topic: 9 Word: 0.032*\"expect\" + 0.028*\"fast\" + 0.024*\"ship\" + 0.023*\"exactly\" + 0.021*\"describe\" + 0.017*\"great\" + 0.015*\"arrive\" + 0.015*\"delivery\" + 0.015*\"product\" + 0.015*\"love\"\n"
          ]
        }
      ]
    },
    {
      "cell_type": "code",
      "source": [
        "# Performance evaluation of LDA using TF-IDF\n",
        "for index, score in sorted(lda_model_tfidf[bow_corpus[4310]], key=lambda tup: -1*tup[1]):\n",
        "    print(\"\\nScore: {}\\t \\nTopic: {}\".format(score, lda_model_tfidf.print_topic(index, 10)))"
      ],
      "metadata": {
        "colab": {
          "base_uri": "https://localhost:8080/"
        },
        "id": "OwS0X1AAM0PQ",
        "outputId": "0893999b-54b9-47a3-a24c-b76a93a699ec"
      },
      "execution_count": null,
      "outputs": [
        {
          "output_type": "stream",
          "name": "stdout",
          "text": [
            "\n",
            "Score: 0.5177449584007263\t \n",
            "Topic: 0.143*\"beautiful\" + 0.031*\"love\" + 0.029*\"gorgeous\" + 0.029*\"lovely\" + 0.028*\"ring\" + 0.028*\"absolutely\" + 0.020*\"fit\" + 0.019*\"great\" + 0.018*\"product\" + 0.018*\"husband\"\n",
            "\n",
            "Score: 0.26506516337394714\t \n",
            "Topic: 0.086*\"good\" + 0.074*\"pretty\" + 0.035*\"quality\" + 0.031*\"cheap\" + 0.028*\"look\" + 0.019*\"want\" + 0.015*\"love\" + 0.015*\"charm\" + 0.015*\"great\" + 0.015*\"gift\"\n",
            "\n",
            "Score: 0.16332872211933136\t \n",
            "Topic: 0.024*\"like\" + 0.011*\"ring\" + 0.010*\"wear\" + 0.009*\"look\" + 0.008*\"star\" + 0.008*\"ears\" + 0.007*\"earrings\" + 0.006*\"love\" + 0.006*\"come\" + 0.006*\"little\"\n"
          ]
        }
      ]
    },
    {
      "cell_type": "markdown",
      "source": [
        "# Conclusions\n",
        "\n",
        "\n",
        "*   Cluster 0 and Topic 0 has same words in comparison.\n",
        "*   Cluster 1 and Topic 1 has same words in comparison.\n",
        "\n"
      ],
      "metadata": {
        "id": "ZtK9fzPL3MFT"
      }
    }
  ]
}